{
  "nbformat": 4,
  "nbformat_minor": 0,
  "metadata": {
    "colab": {
      "name": "Country_prediction.ipynb",
      "provenance": [],
      "collapsed_sections": [
        "NymLsQVPlto0"
      ],
      "toc_visible": true
    },
    "kernelspec": {
      "display_name": "Python 3",
      "name": "python3"
    },
    "accelerator": "GPU"
  },
  "cells": [
    {
      "cell_type": "code",
      "metadata": {
        "id": "DbJbtbHa3WrO"
      },
      "source": [
        "import numpy as np\n",
        "import pandas as pd\n",
        "import matplotlib.pyplot as plt\n",
        "import altair as alt"
      ],
      "execution_count": null,
      "outputs": []
    },
    {
      "cell_type": "markdown",
      "metadata": {
        "id": "xwPAgyAm3PfJ"
      },
      "source": [
        "# Covid data"
      ]
    },
    {
      "cell_type": "code",
      "metadata": {
        "id": "B4y0kSPU3O96"
      },
      "source": [
        "def load_individual_timeseries(name):\n",
        "    base_url='https://raw.githubusercontent.com/CSSEGISandData/COVID-19/master/csse_covid_19_data/csse_covid_19_time_series'\n",
        "    url = f'{base_url}/time_series_covid19_{name}_global.csv'\n",
        "    df = pd.read_csv(url, \n",
        "                     index_col=['Country/Region', 'Province/State', 'Lat', 'Long'])\n",
        "    df['type'] = name.lower()\n",
        "    df.columns.name = 'date'\n",
        "    \n",
        "    df = (df.set_index('type', append=True)\n",
        "            .reset_index(['Lat', 'Long'], drop=True)\n",
        "            .stack()\n",
        "            .reset_index()\n",
        "            .set_index('date')\n",
        "         )\n",
        "    df.index = pd.to_datetime(df.index)\n",
        "    df.columns = ['country', 'state', 'type', 'cases']\n",
        "    \n",
        "    # Move HK to country level\n",
        "    df.loc[df.state =='Hong Kong', 'country'] = 'Hong Kong'\n",
        "    df.loc[df.state =='Hong Kong', 'state'] = np.nan\n",
        "    \n",
        "    # Aggregate large countries split by states\n",
        "    df = pd.concat([df, \n",
        "                    (df.loc[~df.state.isna()]\n",
        "                     .groupby(['country', 'date', 'type'])\n",
        "                     .sum()\n",
        "                     .rename(index=lambda x: x+' (total)', level=0)\n",
        "                     .reset_index(level=['country', 'type']))\n",
        "                   ])\n",
        "    return df\n",
        "\n",
        "def load_data(drop_states=False, p_crit=.05, filter_n_days_100=None):\n",
        "    df = load_individual_timeseries('confirmed')\n",
        "    df = df.rename(columns={'cases': 'confirmed'})\n",
        "    if drop_states:\n",
        "        # Drop states for simplicity\n",
        "        df = df.loc[df.state.isnull()]\n",
        "        \n",
        "    # Estimated critical cases\n",
        "    df = df.assign(critical_estimate=df.confirmed*p_crit)\n",
        "\n",
        "    # Compute days relative to when 100 confirmed cases was crossed\n",
        "    df.loc[:, 'days_since_100'] = np.nan\n",
        "    for country in df.country.unique():\n",
        "        if not df.loc[(df.country == country), 'state'].isnull().all():\n",
        "            for state in df.loc[(df.country == country), 'state'].unique():\n",
        "                df.loc[(df.country == country) & (df.state == state), 'days_since_100'] = \\\n",
        "                    np.arange(-len(df.loc[(df.country == country) & (df.state == state) & (df.confirmed < 100)]), \n",
        "                              len(df.loc[(df.country == country) & (df.state == state) & (df.confirmed >= 100)]))\n",
        "        else:\n",
        "            df.loc[(df.country == country), 'days_since_100'] = \\\n",
        "                np.arange(-len(df.loc[(df.country == country) & (df.confirmed < 100)]), \n",
        "                          len(df.loc[(df.country == country) & (df.confirmed >= 100)]))\n",
        "\n",
        "    # Add recovered cases\n",
        "#     df_recovered = load_individual_timeseries('Recovered')\n",
        "#     df_r = df_recovered.set_index(['country', 'state'], append=True)[['cases']]\n",
        "#     df_r.columns = ['recovered']\n",
        "\n",
        "    # Add deaths\n",
        "    df_deaths = load_individual_timeseries('deaths')\n",
        "    df_d = df_deaths.set_index(['country', 'state'], append=True)[['cases']]\n",
        "    df_d.columns = ['deaths']\n",
        "\n",
        "    df = (df.set_index(['country', 'state'], append=True)\n",
        "#             .join(df_r)\n",
        "            .join(df_d)\n",
        "            .reset_index(['country', 'state'])\n",
        "    )\n",
        "    \n",
        "    if filter_n_days_100 is not None:\n",
        "        # Select countries for which we have at least some information\n",
        "        countries = pd.Series(df.loc[df.days_since_100 >= filter_n_days_100].country.unique())\n",
        "        df = df.loc[lambda x: x.country.isin(countries)]\n",
        "\n",
        "    return df"
      ],
      "execution_count": null,
      "outputs": []
    },
    {
      "cell_type": "code",
      "metadata": {
        "id": "NYzQTyiJ3VST"
      },
      "source": [
        "df_confirmed = load_individual_timeseries('confirmed')\n",
        "#df_death = load_individual_timeseries('deaths')\n",
        "df_recovered = load_individual_timeseries('recovered')"
      ],
      "execution_count": null,
      "outputs": []
    },
    {
      "cell_type": "code",
      "metadata": {
        "id": "GR-nIZPe3VP9"
      },
      "source": [
        "df_confirmed = df_confirmed[~df_confirmed['country'].str.contains(' \\(total\\)')].drop(['state', 'type'], axis=1, ).reset_index()\n",
        "df_recovered = df_recovered[~df_recovered['country'].str.contains(' \\(total\\)')].drop(['state', 'type'], axis=1, ).reset_index()"
      ],
      "execution_count": null,
      "outputs": []
    },
    {
      "cell_type": "code",
      "metadata": {
        "id": "chpKpiQ1Apca"
      },
      "source": [
        "df_confirmed = df_confirmed.rename({'cases':'CONFIRMED_CASES'}, axis=1)\n",
        "df_recovered = df_recovered.rename({'cases':'RECOVERED_CASES'}, axis=1)"
      ],
      "execution_count": null,
      "outputs": []
    },
    {
      "cell_type": "code",
      "metadata": {
        "id": "IwH7jnY7ARzB"
      },
      "source": [
        "df_recovered = df_recovered.merge(df_confirmed, on=['date','country'], how='left')"
      ],
      "execution_count": null,
      "outputs": []
    },
    {
      "cell_type": "code",
      "metadata": {
        "id": "heRNbZ4rA5OR"
      },
      "source": [
        "#Calculate covid recovery rate\n",
        "df_recovered['RECOVERY_RATE'] = (df_recovered['RECOVERED_CASES'] / df_recovered['CONFIRMED_CASES'] ) * 100"
      ],
      "execution_count": null,
      "outputs": []
    },
    {
      "cell_type": "code",
      "metadata": {
        "id": "6aeAw0U-DdUq"
      },
      "source": [
        "#Remove infinity values\n",
        "df_recovered = df_recovered.replace([np.inf, -np.inf], np.nan)"
      ],
      "execution_count": null,
      "outputs": []
    },
    {
      "cell_type": "code",
      "metadata": {
        "id": "eXUBim93B2Pq"
      },
      "source": [
        "df_recovered['RECOVERY_RATE'] = df_recovered['RECOVERY_RATE'].fillna(0)"
      ],
      "execution_count": null,
      "outputs": []
    },
    {
      "cell_type": "code",
      "metadata": {
        "colab": {
          "base_uri": "https://localhost:8080/",
          "height": 204
        },
        "id": "caEwlLC43VII",
        "outputId": "38076382-3b16-453a-986b-9dcc53efdec3"
      },
      "source": [
        "df_recovered['Month'] = pd.DatetimeIndex(df_recovered['date']).month\n",
        "df_recovered['Year'] = pd.DatetimeIndex(df_recovered['date']).year\n",
        "df_recovered = df_recovered.drop(columns='date', axis =1)\n",
        "df_recovered.head()"
      ],
      "execution_count": null,
      "outputs": [
        {
          "output_type": "execute_result",
          "data": {
            "text/html": [
              "<div>\n",
              "<style scoped>\n",
              "    .dataframe tbody tr th:only-of-type {\n",
              "        vertical-align: middle;\n",
              "    }\n",
              "\n",
              "    .dataframe tbody tr th {\n",
              "        vertical-align: top;\n",
              "    }\n",
              "\n",
              "    .dataframe thead th {\n",
              "        text-align: right;\n",
              "    }\n",
              "</style>\n",
              "<table border=\"1\" class=\"dataframe\">\n",
              "  <thead>\n",
              "    <tr style=\"text-align: right;\">\n",
              "      <th></th>\n",
              "      <th>country</th>\n",
              "      <th>RECOVERED_CASES</th>\n",
              "      <th>CONFIRMED_CASES</th>\n",
              "      <th>RECOVERY_RATE</th>\n",
              "      <th>Month</th>\n",
              "      <th>Year</th>\n",
              "    </tr>\n",
              "  </thead>\n",
              "  <tbody>\n",
              "    <tr>\n",
              "      <th>0</th>\n",
              "      <td>Afghanistan</td>\n",
              "      <td>0</td>\n",
              "      <td>0</td>\n",
              "      <td>0.0</td>\n",
              "      <td>1</td>\n",
              "      <td>2020</td>\n",
              "    </tr>\n",
              "    <tr>\n",
              "      <th>1</th>\n",
              "      <td>Afghanistan</td>\n",
              "      <td>0</td>\n",
              "      <td>0</td>\n",
              "      <td>0.0</td>\n",
              "      <td>1</td>\n",
              "      <td>2020</td>\n",
              "    </tr>\n",
              "    <tr>\n",
              "      <th>2</th>\n",
              "      <td>Afghanistan</td>\n",
              "      <td>0</td>\n",
              "      <td>0</td>\n",
              "      <td>0.0</td>\n",
              "      <td>1</td>\n",
              "      <td>2020</td>\n",
              "    </tr>\n",
              "    <tr>\n",
              "      <th>3</th>\n",
              "      <td>Afghanistan</td>\n",
              "      <td>0</td>\n",
              "      <td>0</td>\n",
              "      <td>0.0</td>\n",
              "      <td>1</td>\n",
              "      <td>2020</td>\n",
              "    </tr>\n",
              "    <tr>\n",
              "      <th>4</th>\n",
              "      <td>Afghanistan</td>\n",
              "      <td>0</td>\n",
              "      <td>0</td>\n",
              "      <td>0.0</td>\n",
              "      <td>1</td>\n",
              "      <td>2020</td>\n",
              "    </tr>\n",
              "  </tbody>\n",
              "</table>\n",
              "</div>"
            ],
            "text/plain": [
              "       country  RECOVERED_CASES  CONFIRMED_CASES  RECOVERY_RATE  Month  Year\n",
              "0  Afghanistan                0                0            0.0      1  2020\n",
              "1  Afghanistan                0                0            0.0      1  2020\n",
              "2  Afghanistan                0                0            0.0      1  2020\n",
              "3  Afghanistan                0                0            0.0      1  2020\n",
              "4  Afghanistan                0                0            0.0      1  2020"
            ]
          },
          "metadata": {
            "tags": []
          },
          "execution_count": 68
        }
      ]
    },
    {
      "cell_type": "code",
      "metadata": {
        "colab": {
          "base_uri": "https://localhost:8080/",
          "height": 204
        },
        "id": "JspM4OQA5UWj",
        "outputId": "18e72ed3-3968-4606-aa7a-f478e7d54b52"
      },
      "source": [
        "#Select covid cases month wise split for 2020\n",
        "df_recent = df_recovered[df_recovered['Year'] == 2020]\n",
        "df_recent.head()"
      ],
      "execution_count": null,
      "outputs": [
        {
          "output_type": "execute_result",
          "data": {
            "text/html": [
              "<div>\n",
              "<style scoped>\n",
              "    .dataframe tbody tr th:only-of-type {\n",
              "        vertical-align: middle;\n",
              "    }\n",
              "\n",
              "    .dataframe tbody tr th {\n",
              "        vertical-align: top;\n",
              "    }\n",
              "\n",
              "    .dataframe thead th {\n",
              "        text-align: right;\n",
              "    }\n",
              "</style>\n",
              "<table border=\"1\" class=\"dataframe\">\n",
              "  <thead>\n",
              "    <tr style=\"text-align: right;\">\n",
              "      <th></th>\n",
              "      <th>country</th>\n",
              "      <th>RECOVERED_CASES</th>\n",
              "      <th>CONFIRMED_CASES</th>\n",
              "      <th>RECOVERY_RATE</th>\n",
              "      <th>Month</th>\n",
              "      <th>Year</th>\n",
              "    </tr>\n",
              "  </thead>\n",
              "  <tbody>\n",
              "    <tr>\n",
              "      <th>0</th>\n",
              "      <td>Afghanistan</td>\n",
              "      <td>0</td>\n",
              "      <td>0</td>\n",
              "      <td>0.0</td>\n",
              "      <td>1</td>\n",
              "      <td>2020</td>\n",
              "    </tr>\n",
              "    <tr>\n",
              "      <th>1</th>\n",
              "      <td>Afghanistan</td>\n",
              "      <td>0</td>\n",
              "      <td>0</td>\n",
              "      <td>0.0</td>\n",
              "      <td>1</td>\n",
              "      <td>2020</td>\n",
              "    </tr>\n",
              "    <tr>\n",
              "      <th>2</th>\n",
              "      <td>Afghanistan</td>\n",
              "      <td>0</td>\n",
              "      <td>0</td>\n",
              "      <td>0.0</td>\n",
              "      <td>1</td>\n",
              "      <td>2020</td>\n",
              "    </tr>\n",
              "    <tr>\n",
              "      <th>3</th>\n",
              "      <td>Afghanistan</td>\n",
              "      <td>0</td>\n",
              "      <td>0</td>\n",
              "      <td>0.0</td>\n",
              "      <td>1</td>\n",
              "      <td>2020</td>\n",
              "    </tr>\n",
              "    <tr>\n",
              "      <th>4</th>\n",
              "      <td>Afghanistan</td>\n",
              "      <td>0</td>\n",
              "      <td>0</td>\n",
              "      <td>0.0</td>\n",
              "      <td>1</td>\n",
              "      <td>2020</td>\n",
              "    </tr>\n",
              "  </tbody>\n",
              "</table>\n",
              "</div>"
            ],
            "text/plain": [
              "       country  RECOVERED_CASES  CONFIRMED_CASES  RECOVERY_RATE  Month  Year\n",
              "0  Afghanistan                0                0            0.0      1  2020\n",
              "1  Afghanistan                0                0            0.0      1  2020\n",
              "2  Afghanistan                0                0            0.0      1  2020\n",
              "3  Afghanistan                0                0            0.0      1  2020\n",
              "4  Afghanistan                0                0            0.0      1  2020"
            ]
          },
          "metadata": {
            "tags": []
          },
          "execution_count": 69
        }
      ]
    },
    {
      "cell_type": "code",
      "metadata": {
        "id": "Ol3Os-JuCbfx"
      },
      "source": [
        "df_recent = df_recent.drop(columns=['RECOVERED_CASES','CONFIRMED_CASES'], axis =1)"
      ],
      "execution_count": null,
      "outputs": []
    },
    {
      "cell_type": "code",
      "metadata": {
        "colab": {
          "base_uri": "https://localhost:8080/",
          "height": 204
        },
        "id": "QhS8sLIxCklD",
        "outputId": "0b8d0193-f8c8-4fd5-cb88-25448cbcdd11"
      },
      "source": [
        "df_recent.head()"
      ],
      "execution_count": null,
      "outputs": [
        {
          "output_type": "execute_result",
          "data": {
            "text/html": [
              "<div>\n",
              "<style scoped>\n",
              "    .dataframe tbody tr th:only-of-type {\n",
              "        vertical-align: middle;\n",
              "    }\n",
              "\n",
              "    .dataframe tbody tr th {\n",
              "        vertical-align: top;\n",
              "    }\n",
              "\n",
              "    .dataframe thead th {\n",
              "        text-align: right;\n",
              "    }\n",
              "</style>\n",
              "<table border=\"1\" class=\"dataframe\">\n",
              "  <thead>\n",
              "    <tr style=\"text-align: right;\">\n",
              "      <th></th>\n",
              "      <th>country</th>\n",
              "      <th>RECOVERY_RATE</th>\n",
              "      <th>Month</th>\n",
              "      <th>Year</th>\n",
              "    </tr>\n",
              "  </thead>\n",
              "  <tbody>\n",
              "    <tr>\n",
              "      <th>0</th>\n",
              "      <td>Afghanistan</td>\n",
              "      <td>0.0</td>\n",
              "      <td>1</td>\n",
              "      <td>2020</td>\n",
              "    </tr>\n",
              "    <tr>\n",
              "      <th>1</th>\n",
              "      <td>Afghanistan</td>\n",
              "      <td>0.0</td>\n",
              "      <td>1</td>\n",
              "      <td>2020</td>\n",
              "    </tr>\n",
              "    <tr>\n",
              "      <th>2</th>\n",
              "      <td>Afghanistan</td>\n",
              "      <td>0.0</td>\n",
              "      <td>1</td>\n",
              "      <td>2020</td>\n",
              "    </tr>\n",
              "    <tr>\n",
              "      <th>3</th>\n",
              "      <td>Afghanistan</td>\n",
              "      <td>0.0</td>\n",
              "      <td>1</td>\n",
              "      <td>2020</td>\n",
              "    </tr>\n",
              "    <tr>\n",
              "      <th>4</th>\n",
              "      <td>Afghanistan</td>\n",
              "      <td>0.0</td>\n",
              "      <td>1</td>\n",
              "      <td>2020</td>\n",
              "    </tr>\n",
              "  </tbody>\n",
              "</table>\n",
              "</div>"
            ],
            "text/plain": [
              "       country  RECOVERY_RATE  Month  Year\n",
              "0  Afghanistan            0.0      1  2020\n",
              "1  Afghanistan            0.0      1  2020\n",
              "2  Afghanistan            0.0      1  2020\n",
              "3  Afghanistan            0.0      1  2020\n",
              "4  Afghanistan            0.0      1  2020"
            ]
          },
          "metadata": {
            "tags": []
          },
          "execution_count": 71
        }
      ]
    },
    {
      "cell_type": "code",
      "metadata": {
        "id": "a9wNovweFdm_",
        "colab": {
          "base_uri": "https://localhost:8080/",
          "height": 419
        },
        "outputId": "ad757252-942b-43f9-ce75-2e27edc1f6dc"
      },
      "source": [
        "#Group data by country and period\n",
        "df_recent = df_recent.groupby(['country','Month','Year']).agg({'RECOVERY_RATE': 'mean'}).reset_index()\n",
        "df_recent"
      ],
      "execution_count": null,
      "outputs": [
        {
          "output_type": "execute_result",
          "data": {
            "text/html": [
              "<div>\n",
              "<style scoped>\n",
              "    .dataframe tbody tr th:only-of-type {\n",
              "        vertical-align: middle;\n",
              "    }\n",
              "\n",
              "    .dataframe tbody tr th {\n",
              "        vertical-align: top;\n",
              "    }\n",
              "\n",
              "    .dataframe thead th {\n",
              "        text-align: right;\n",
              "    }\n",
              "</style>\n",
              "<table border=\"1\" class=\"dataframe\">\n",
              "  <thead>\n",
              "    <tr style=\"text-align: right;\">\n",
              "      <th></th>\n",
              "      <th>country</th>\n",
              "      <th>Month</th>\n",
              "      <th>Year</th>\n",
              "      <th>RECOVERY_RATE</th>\n",
              "    </tr>\n",
              "  </thead>\n",
              "  <tbody>\n",
              "    <tr>\n",
              "      <th>0</th>\n",
              "      <td>Afghanistan</td>\n",
              "      <td>1</td>\n",
              "      <td>2020</td>\n",
              "      <td>0.000000</td>\n",
              "    </tr>\n",
              "    <tr>\n",
              "      <th>1</th>\n",
              "      <td>Afghanistan</td>\n",
              "      <td>2</td>\n",
              "      <td>2020</td>\n",
              "      <td>0.000000</td>\n",
              "    </tr>\n",
              "    <tr>\n",
              "      <th>2</th>\n",
              "      <td>Afghanistan</td>\n",
              "      <td>3</td>\n",
              "      <td>2020</td>\n",
              "      <td>1.559035</td>\n",
              "    </tr>\n",
              "    <tr>\n",
              "      <th>3</th>\n",
              "      <td>Afghanistan</td>\n",
              "      <td>4</td>\n",
              "      <td>2020</td>\n",
              "      <td>8.741900</td>\n",
              "    </tr>\n",
              "    <tr>\n",
              "      <th>4</th>\n",
              "      <td>Afghanistan</td>\n",
              "      <td>5</td>\n",
              "      <td>2020</td>\n",
              "      <td>11.477166</td>\n",
              "    </tr>\n",
              "    <tr>\n",
              "      <th>...</th>\n",
              "      <td>...</td>\n",
              "      <td>...</td>\n",
              "      <td>...</td>\n",
              "      <td>...</td>\n",
              "    </tr>\n",
              "    <tr>\n",
              "      <th>2311</th>\n",
              "      <td>Zimbabwe</td>\n",
              "      <td>8</td>\n",
              "      <td>2020</td>\n",
              "      <td>54.768123</td>\n",
              "    </tr>\n",
              "    <tr>\n",
              "      <th>2312</th>\n",
              "      <td>Zimbabwe</td>\n",
              "      <td>9</td>\n",
              "      <td>2020</td>\n",
              "      <td>77.169833</td>\n",
              "    </tr>\n",
              "    <tr>\n",
              "      <th>2313</th>\n",
              "      <td>Zimbabwe</td>\n",
              "      <td>10</td>\n",
              "      <td>2020</td>\n",
              "      <td>89.579339</td>\n",
              "    </tr>\n",
              "    <tr>\n",
              "      <th>2314</th>\n",
              "      <td>Zimbabwe</td>\n",
              "      <td>11</td>\n",
              "      <td>2020</td>\n",
              "      <td>91.151584</td>\n",
              "    </tr>\n",
              "    <tr>\n",
              "      <th>2315</th>\n",
              "      <td>Zimbabwe</td>\n",
              "      <td>12</td>\n",
              "      <td>2020</td>\n",
              "      <td>82.619141</td>\n",
              "    </tr>\n",
              "  </tbody>\n",
              "</table>\n",
              "<p>2316 rows × 4 columns</p>\n",
              "</div>"
            ],
            "text/plain": [
              "          country  Month  Year  RECOVERY_RATE\n",
              "0     Afghanistan      1  2020       0.000000\n",
              "1     Afghanistan      2  2020       0.000000\n",
              "2     Afghanistan      3  2020       1.559035\n",
              "3     Afghanistan      4  2020       8.741900\n",
              "4     Afghanistan      5  2020      11.477166\n",
              "...           ...    ...   ...            ...\n",
              "2311     Zimbabwe      8  2020      54.768123\n",
              "2312     Zimbabwe      9  2020      77.169833\n",
              "2313     Zimbabwe     10  2020      89.579339\n",
              "2314     Zimbabwe     11  2020      91.151584\n",
              "2315     Zimbabwe     12  2020      82.619141\n",
              "\n",
              "[2316 rows x 4 columns]"
            ]
          },
          "metadata": {
            "tags": []
          },
          "execution_count": 72
        }
      ]
    },
    {
      "cell_type": "code",
      "metadata": {
        "colab": {
          "base_uri": "https://localhost:8080/",
          "height": 204
        },
        "id": "lPxYg90C3xl7",
        "outputId": "ebf9d7ec-d3af-483f-bb8b-f7003ef030ac"
      },
      "source": [
        "df_recent.columns = ['COUNTRY', 'MONTH', 'YEAR', 'RECOVERY_RATE']\n",
        "df_recent.head()"
      ],
      "execution_count": null,
      "outputs": [
        {
          "output_type": "execute_result",
          "data": {
            "text/html": [
              "<div>\n",
              "<style scoped>\n",
              "    .dataframe tbody tr th:only-of-type {\n",
              "        vertical-align: middle;\n",
              "    }\n",
              "\n",
              "    .dataframe tbody tr th {\n",
              "        vertical-align: top;\n",
              "    }\n",
              "\n",
              "    .dataframe thead th {\n",
              "        text-align: right;\n",
              "    }\n",
              "</style>\n",
              "<table border=\"1\" class=\"dataframe\">\n",
              "  <thead>\n",
              "    <tr style=\"text-align: right;\">\n",
              "      <th></th>\n",
              "      <th>COUNTRY</th>\n",
              "      <th>MONTH</th>\n",
              "      <th>YEAR</th>\n",
              "      <th>RECOVERY_RATE</th>\n",
              "    </tr>\n",
              "  </thead>\n",
              "  <tbody>\n",
              "    <tr>\n",
              "      <th>0</th>\n",
              "      <td>Afghanistan</td>\n",
              "      <td>1</td>\n",
              "      <td>2020</td>\n",
              "      <td>0.000000</td>\n",
              "    </tr>\n",
              "    <tr>\n",
              "      <th>1</th>\n",
              "      <td>Afghanistan</td>\n",
              "      <td>2</td>\n",
              "      <td>2020</td>\n",
              "      <td>0.000000</td>\n",
              "    </tr>\n",
              "    <tr>\n",
              "      <th>2</th>\n",
              "      <td>Afghanistan</td>\n",
              "      <td>3</td>\n",
              "      <td>2020</td>\n",
              "      <td>1.559035</td>\n",
              "    </tr>\n",
              "    <tr>\n",
              "      <th>3</th>\n",
              "      <td>Afghanistan</td>\n",
              "      <td>4</td>\n",
              "      <td>2020</td>\n",
              "      <td>8.741900</td>\n",
              "    </tr>\n",
              "    <tr>\n",
              "      <th>4</th>\n",
              "      <td>Afghanistan</td>\n",
              "      <td>5</td>\n",
              "      <td>2020</td>\n",
              "      <td>11.477166</td>\n",
              "    </tr>\n",
              "  </tbody>\n",
              "</table>\n",
              "</div>"
            ],
            "text/plain": [
              "       COUNTRY  MONTH  YEAR  RECOVERY_RATE\n",
              "0  Afghanistan      1  2020       0.000000\n",
              "1  Afghanistan      2  2020       0.000000\n",
              "2  Afghanistan      3  2020       1.559035\n",
              "3  Afghanistan      4  2020       8.741900\n",
              "4  Afghanistan      5  2020      11.477166"
            ]
          },
          "metadata": {
            "tags": []
          },
          "execution_count": 73
        }
      ]
    },
    {
      "cell_type": "code",
      "metadata": {
        "id": "8-I1E0ycCo75"
      },
      "source": [
        "df_recent = df_recent.round()"
      ],
      "execution_count": null,
      "outputs": []
    },
    {
      "cell_type": "code",
      "metadata": {
        "id": "R0QMCmw73xjW"
      },
      "source": [
        "for i, row in df_recent.iterrows():\n",
        "    if df_recent.loc[i,'COUNTRY']=='Taiwan*':\n",
        "      df_recent.at[i,'COUNTRY'] = 'Taiwan (China)'\n",
        "    if df_recent.loc[i,'COUNTRY']=='US':\n",
        "      df_recent.at[i,'COUNTRY'] = 'USA'\n",
        "    if df_recent.loc[i,'COUNTRY']=='Korea, South':\n",
        "      df_recent.at[i,'COUNTRY'] = 'Korea (South)'\n",
        "    if df_recent.loc[i,'COUNTRY']=='China':\n",
        "      df_recent.at[i,'COUNTRY'] = 'China, P.R.'\n",
        "    if df_recent.loc[i,'COUNTRY']=='Czechia':\n",
        "      df_recent.at[i,'COUNTRY'] = 'Czech Republic'"
      ],
      "execution_count": null,
      "outputs": []
    },
    {
      "cell_type": "code",
      "metadata": {
        "colab": {
          "base_uri": "https://localhost:8080/",
          "height": 204
        },
        "id": "QV56ggJs3xfv",
        "outputId": "56dbde88-1c44-4661-e961-658c6075713f"
      },
      "source": [
        "#Final covid recovery rate data for country in 2020 month wise split\n",
        "df_recent.head()"
      ],
      "execution_count": null,
      "outputs": [
        {
          "output_type": "execute_result",
          "data": {
            "text/html": [
              "<div>\n",
              "<style scoped>\n",
              "    .dataframe tbody tr th:only-of-type {\n",
              "        vertical-align: middle;\n",
              "    }\n",
              "\n",
              "    .dataframe tbody tr th {\n",
              "        vertical-align: top;\n",
              "    }\n",
              "\n",
              "    .dataframe thead th {\n",
              "        text-align: right;\n",
              "    }\n",
              "</style>\n",
              "<table border=\"1\" class=\"dataframe\">\n",
              "  <thead>\n",
              "    <tr style=\"text-align: right;\">\n",
              "      <th></th>\n",
              "      <th>COUNTRY</th>\n",
              "      <th>MONTH</th>\n",
              "      <th>YEAR</th>\n",
              "      <th>RECOVERY_RATE</th>\n",
              "    </tr>\n",
              "  </thead>\n",
              "  <tbody>\n",
              "    <tr>\n",
              "      <th>0</th>\n",
              "      <td>Afghanistan</td>\n",
              "      <td>1</td>\n",
              "      <td>2020</td>\n",
              "      <td>0.0</td>\n",
              "    </tr>\n",
              "    <tr>\n",
              "      <th>1</th>\n",
              "      <td>Afghanistan</td>\n",
              "      <td>2</td>\n",
              "      <td>2020</td>\n",
              "      <td>0.0</td>\n",
              "    </tr>\n",
              "    <tr>\n",
              "      <th>2</th>\n",
              "      <td>Afghanistan</td>\n",
              "      <td>3</td>\n",
              "      <td>2020</td>\n",
              "      <td>2.0</td>\n",
              "    </tr>\n",
              "    <tr>\n",
              "      <th>3</th>\n",
              "      <td>Afghanistan</td>\n",
              "      <td>4</td>\n",
              "      <td>2020</td>\n",
              "      <td>9.0</td>\n",
              "    </tr>\n",
              "    <tr>\n",
              "      <th>4</th>\n",
              "      <td>Afghanistan</td>\n",
              "      <td>5</td>\n",
              "      <td>2020</td>\n",
              "      <td>11.0</td>\n",
              "    </tr>\n",
              "  </tbody>\n",
              "</table>\n",
              "</div>"
            ],
            "text/plain": [
              "       COUNTRY  MONTH  YEAR  RECOVERY_RATE\n",
              "0  Afghanistan      1  2020            0.0\n",
              "1  Afghanistan      2  2020            0.0\n",
              "2  Afghanistan      3  2020            2.0\n",
              "3  Afghanistan      4  2020            9.0\n",
              "4  Afghanistan      5  2020           11.0"
            ]
          },
          "metadata": {
            "tags": []
          },
          "execution_count": 76
        }
      ]
    },
    {
      "cell_type": "markdown",
      "metadata": {
        "id": "mX13ZSDC3NSW"
      },
      "source": [
        "# Booking data"
      ]
    },
    {
      "cell_type": "code",
      "metadata": {
        "id": "pTDqYnVZTVfK"
      },
      "source": [
        "df = pd.read_excel(\"/content/booking_ENC_data_2019.xlsx\")"
      ],
      "execution_count": null,
      "outputs": []
    },
    {
      "cell_type": "code",
      "metadata": {
        "colab": {
          "base_uri": "https://localhost:8080/",
          "height": 343
        },
        "id": "og8SIJOWUICI",
        "outputId": "9c32a60a-f8b9-4201-81f9-64f219ba9423"
      },
      "source": [
        "df.head()"
      ],
      "execution_count": null,
      "outputs": [
        {
          "output_type": "execute_result",
          "data": {
            "text/html": [
              "<div>\n",
              "<style scoped>\n",
              "    .dataframe tbody tr th:only-of-type {\n",
              "        vertical-align: middle;\n",
              "    }\n",
              "\n",
              "    .dataframe tbody tr th {\n",
              "        vertical-align: top;\n",
              "    }\n",
              "\n",
              "    .dataframe thead th {\n",
              "        text-align: right;\n",
              "    }\n",
              "</style>\n",
              "<table border=\"1\" class=\"dataframe\">\n",
              "  <thead>\n",
              "    <tr style=\"text-align: right;\">\n",
              "      <th></th>\n",
              "      <th>BOOKING_ID</th>\n",
              "      <th>BOOKING_STATUS_NAME</th>\n",
              "      <th>F_KEY</th>\n",
              "      <th>BOOKING_DATE</th>\n",
              "      <th>HOTEL_ARRIVAL_DATE</th>\n",
              "      <th>HOTEL_DEPARTURE_DATE</th>\n",
              "      <th>HOTEL_CHAIN_NAME</th>\n",
              "      <th>HOTEL_NAME</th>\n",
              "      <th>HOTEL_CATEGORY_NAME</th>\n",
              "      <th>HOTEL_ID</th>\n",
              "      <th>HOTEL_COUNTRY_NAME</th>\n",
              "      <th>HOTEL_CITY_NAME</th>\n",
              "      <th>BOOKING_ORIGIN_COUNTRY_NAME</th>\n",
              "      <th>TRAVELLER_ID_ENC</th>\n",
              "      <th>TRAVELLER2_ID_ENC</th>\n",
              "      <th>PRICE_LIMIT_REASON</th>\n",
              "      <th>BOOKING_TYPE</th>\n",
              "      <th>BOOKING_PRODUCT_TYPE_NAME</th>\n",
              "      <th>ORIGINAL_BOOKING_SOURCE_GROUP_NAME</th>\n",
              "      <th>ORIGINAL_BOOKING_SOURCE_NAME</th>\n",
              "      <th>PAYMENT_GUARANTEE_NAME</th>\n",
              "      <th>AMOUNT_TURNOVER_EUR</th>\n",
              "      <th>NUMBER_BOOKED_ROOMNIGHTS</th>\n",
              "    </tr>\n",
              "  </thead>\n",
              "  <tbody>\n",
              "    <tr>\n",
              "      <th>0</th>\n",
              "      <td>248140012</td>\n",
              "      <td>booked</td>\n",
              "      <td>16525</td>\n",
              "      <td>2020-03-06</td>\n",
              "      <td>2020-03-10</td>\n",
              "      <td>2020-03-11</td>\n",
              "      <td>individual</td>\n",
              "      <td>Porth Avallen</td>\n",
              "      <td>***</td>\n",
              "      <td>152785</td>\n",
              "      <td>United Kingdom</td>\n",
              "      <td>Saint Austell, Cornwall (England)</td>\n",
              "      <td>United Kingdom</td>\n",
              "      <td>c1beeaf361</td>\n",
              "      <td>f8fd6e3b23</td>\n",
              "      <td>NaN</td>\n",
              "      <td>Business</td>\n",
              "      <td>INDIVIDUAL BOOKING</td>\n",
              "      <td>GDS</td>\n",
              "      <td>Sabre GDS</td>\n",
              "      <td>Guaranteed reservation</td>\n",
              "      <td>74.799</td>\n",
              "      <td>1</td>\n",
              "    </tr>\n",
              "    <tr>\n",
              "      <th>1</th>\n",
              "      <td>244119532</td>\n",
              "      <td>booked</td>\n",
              "      <td>15488</td>\n",
              "      <td>2020-01-10</td>\n",
              "      <td>2020-01-20</td>\n",
              "      <td>2020-01-21</td>\n",
              "      <td>individual</td>\n",
              "      <td>Ecoinn</td>\n",
              "      <td>***</td>\n",
              "      <td>437274</td>\n",
              "      <td>Germany</td>\n",
              "      <td>Esslingen am Neckar (Baden-Württemberg)</td>\n",
              "      <td>Germany</td>\n",
              "      <td>ec955ef5e7</td>\n",
              "      <td>f8fd6e3b23</td>\n",
              "      <td>NaN</td>\n",
              "      <td>Business</td>\n",
              "      <td>INDIVIDUAL BOOKING</td>\n",
              "      <td>OBE</td>\n",
              "      <td>Concur HRS</td>\n",
              "      <td>Guaranteed reservation</td>\n",
              "      <td>93.100</td>\n",
              "      <td>1</td>\n",
              "    </tr>\n",
              "    <tr>\n",
              "      <th>2</th>\n",
              "      <td>254834709</td>\n",
              "      <td>booked</td>\n",
              "      <td>8734</td>\n",
              "      <td>2020-12-07</td>\n",
              "      <td>2020-12-08</td>\n",
              "      <td>2020-12-10</td>\n",
              "      <td>individual</td>\n",
              "      <td>Versant hotel SPA</td>\n",
              "      <td>****</td>\n",
              "      <td>588706</td>\n",
              "      <td>Poland</td>\n",
              "      <td>Dzierżoniów (Dolnośląskie)</td>\n",
              "      <td>Poland</td>\n",
              "      <td>53805fa735</td>\n",
              "      <td>f8fd6e3b23</td>\n",
              "      <td>NaN</td>\n",
              "      <td>Business</td>\n",
              "      <td>INDIVIDUAL BOOKING</td>\n",
              "      <td>Web</td>\n",
              "      <td>WWW</td>\n",
              "      <td>Guaranteed reservation</td>\n",
              "      <td>114.332</td>\n",
              "      <td>2</td>\n",
              "    </tr>\n",
              "    <tr>\n",
              "      <th>3</th>\n",
              "      <td>249088120</td>\n",
              "      <td>booked</td>\n",
              "      <td>30876</td>\n",
              "      <td>2020-03-28</td>\n",
              "      <td>2020-03-29</td>\n",
              "      <td>2020-04-02</td>\n",
              "      <td>Kempinski Hotels &amp; Resorts</td>\n",
              "      <td>Kempinski Hotel Changsha</td>\n",
              "      <td>*****</td>\n",
              "      <td>685304</td>\n",
              "      <td>China, P.R.</td>\n",
              "      <td>Changsha (Hunan Province)</td>\n",
              "      <td>China, P.R.</td>\n",
              "      <td>d93d18d3cf</td>\n",
              "      <td>f8fd6e3b23</td>\n",
              "      <td>NaN</td>\n",
              "      <td>Business</td>\n",
              "      <td>INDIVIDUAL BOOKING</td>\n",
              "      <td>SOAP</td>\n",
              "      <td>Alibaba Group</td>\n",
              "      <td>Guaranteed reservation</td>\n",
              "      <td>257.340</td>\n",
              "      <td>4</td>\n",
              "    </tr>\n",
              "    <tr>\n",
              "      <th>4</th>\n",
              "      <td>245401235</td>\n",
              "      <td>booked</td>\n",
              "      <td>8855</td>\n",
              "      <td>2020-01-27</td>\n",
              "      <td>2020-01-29</td>\n",
              "      <td>2020-01-30</td>\n",
              "      <td>Starhotels</td>\n",
              "      <td>Starhotels Anderson</td>\n",
              "      <td>****</td>\n",
              "      <td>60238</td>\n",
              "      <td>Italy</td>\n",
              "      <td>Milano (Lombardia)</td>\n",
              "      <td>Italy</td>\n",
              "      <td>19bcd45f98</td>\n",
              "      <td>f8fd6e3b23</td>\n",
              "      <td>NaN</td>\n",
              "      <td>Business</td>\n",
              "      <td>INDIVIDUAL BOOKING</td>\n",
              "      <td>OBE</td>\n",
              "      <td>Biztravel</td>\n",
              "      <td>Guaranteed reservation</td>\n",
              "      <td>145.000</td>\n",
              "      <td>1</td>\n",
              "    </tr>\n",
              "  </tbody>\n",
              "</table>\n",
              "</div>"
            ],
            "text/plain": [
              "   BOOKING_ID  ... NUMBER_BOOKED_ROOMNIGHTS\n",
              "0   248140012  ...                        1\n",
              "1   244119532  ...                        1\n",
              "2   254834709  ...                        2\n",
              "3   249088120  ...                        4\n",
              "4   245401235  ...                        1\n",
              "\n",
              "[5 rows x 23 columns]"
            ]
          },
          "metadata": {
            "tags": []
          },
          "execution_count": 78
        }
      ]
    },
    {
      "cell_type": "code",
      "metadata": {
        "id": "AX_p-SGDF3Yq"
      },
      "source": [
        "hrc_drop_columns = ['F_KEY','HOTEL_DEPARTURE_DATE','HOTEL_CHAIN_NAME','HOTEL_NAME','HOTEL_ID','TRAVELLER_ID_ENC','TRAVELLER2_ID_ENC','PRICE_LIMIT_REASON','BOOKING_PRODUCT_TYPE_NAME','ORIGINAL_BOOKING_SOURCE_GROUP_NAME','ORIGINAL_BOOKING_SOURCE_NAME','PAYMENT_GUARANTEE_NAME','AMOUNT_TURNOVER_EUR']\n",
        "df = df.drop(columns=hrc_drop_columns, axis =1)"
      ],
      "execution_count": null,
      "outputs": []
    },
    {
      "cell_type": "code",
      "metadata": {
        "id": "0TvyvhMKYq4a"
      },
      "source": [
        "hrc_drop_columns_add = ['HOTEL_CATEGORY_NAME','HOTEL_CITY_NAME','NUMBER_BOOKED_ROOMNIGHTS','BOOKING_ORIGIN_COUNTRY_NAME']\n",
        "df = df.drop(columns=hrc_drop_columns_add, axis =1)"
      ],
      "execution_count": null,
      "outputs": []
    },
    {
      "cell_type": "code",
      "metadata": {
        "colab": {
          "base_uri": "https://localhost:8080/",
          "height": 332
        },
        "id": "_qUydrR268S3",
        "outputId": "0e6ee471-2f8b-4e43-eefa-5b449098bb6e"
      },
      "source": [
        "#Booking data from HRS only for booked corporate travels\n",
        "booked_df = df[(df['BOOKING_STATUS_NAME'] == 'booked') & (df['BOOKING_TYPE'] == 'Business')]\n",
        "booked_df['ARRIVAL_AFTER'] = (booked_df['HOTEL_ARRIVAL_DATE'] - booked_df['BOOKING_DATE']).dt.days\n",
        "booked_df = booked_df.drop(columns=['BOOKING_STATUS_NAME','BOOKING_TYPE','HOTEL_ARRIVAL_DATE'], axis =1)\n",
        "booked_df.head()"
      ],
      "execution_count": null,
      "outputs": [
        {
          "output_type": "stream",
          "text": [
            "/usr/local/lib/python3.6/dist-packages/ipykernel_launcher.py:2: SettingWithCopyWarning: \n",
            "A value is trying to be set on a copy of a slice from a DataFrame.\n",
            "Try using .loc[row_indexer,col_indexer] = value instead\n",
            "\n",
            "See the caveats in the documentation: https://pandas.pydata.org/pandas-docs/stable/user_guide/indexing.html#returning-a-view-versus-a-copy\n",
            "  \n"
          ],
          "name": "stderr"
        },
        {
          "output_type": "execute_result",
          "data": {
            "text/html": [
              "<div>\n",
              "<style scoped>\n",
              "    .dataframe tbody tr th:only-of-type {\n",
              "        vertical-align: middle;\n",
              "    }\n",
              "\n",
              "    .dataframe tbody tr th {\n",
              "        vertical-align: top;\n",
              "    }\n",
              "\n",
              "    .dataframe thead th {\n",
              "        text-align: right;\n",
              "    }\n",
              "</style>\n",
              "<table border=\"1\" class=\"dataframe\">\n",
              "  <thead>\n",
              "    <tr style=\"text-align: right;\">\n",
              "      <th></th>\n",
              "      <th>BOOKING_ID</th>\n",
              "      <th>BOOKING_DATE</th>\n",
              "      <th>HOTEL_COUNTRY_NAME</th>\n",
              "      <th>ARRIVAL_AFTER</th>\n",
              "    </tr>\n",
              "  </thead>\n",
              "  <tbody>\n",
              "    <tr>\n",
              "      <th>0</th>\n",
              "      <td>248140012</td>\n",
              "      <td>2020-03-06</td>\n",
              "      <td>United Kingdom</td>\n",
              "      <td>4</td>\n",
              "    </tr>\n",
              "    <tr>\n",
              "      <th>1</th>\n",
              "      <td>244119532</td>\n",
              "      <td>2020-01-10</td>\n",
              "      <td>Germany</td>\n",
              "      <td>10</td>\n",
              "    </tr>\n",
              "    <tr>\n",
              "      <th>2</th>\n",
              "      <td>254834709</td>\n",
              "      <td>2020-12-07</td>\n",
              "      <td>Poland</td>\n",
              "      <td>1</td>\n",
              "    </tr>\n",
              "    <tr>\n",
              "      <th>3</th>\n",
              "      <td>249088120</td>\n",
              "      <td>2020-03-28</td>\n",
              "      <td>China, P.R.</td>\n",
              "      <td>1</td>\n",
              "    </tr>\n",
              "    <tr>\n",
              "      <th>4</th>\n",
              "      <td>245401235</td>\n",
              "      <td>2020-01-27</td>\n",
              "      <td>Italy</td>\n",
              "      <td>2</td>\n",
              "    </tr>\n",
              "  </tbody>\n",
              "</table>\n",
              "</div>"
            ],
            "text/plain": [
              "   BOOKING_ID BOOKING_DATE HOTEL_COUNTRY_NAME  ARRIVAL_AFTER\n",
              "0   248140012   2020-03-06     United Kingdom              4\n",
              "1   244119532   2020-01-10            Germany             10\n",
              "2   254834709   2020-12-07             Poland              1\n",
              "3   249088120   2020-03-28        China, P.R.              1\n",
              "4   245401235   2020-01-27              Italy              2"
            ]
          },
          "metadata": {
            "tags": []
          },
          "execution_count": 81
        }
      ]
    },
    {
      "cell_type": "code",
      "metadata": {
        "id": "TPtaRxAz1yVR"
      },
      "source": [
        "booked_df = booked_df[booked_df.HOTEL_COUNTRY_NAME != 'Cape Verde']\n",
        "booked_df = booked_df[booked_df.HOTEL_COUNTRY_NAME != 'French Guiana']\n",
        "booked_df = booked_df[booked_df.HOTEL_COUNTRY_NAME != 'Guadeloupe']\n",
        "booked_df = booked_df[booked_df.HOTEL_COUNTRY_NAME != 'Martinique']\n",
        "booked_df = booked_df[booked_df.HOTEL_COUNTRY_NAME != 'N.A.']\n",
        "booked_df = booked_df[booked_df.HOTEL_COUNTRY_NAME != 'Puerto Rico']\n",
        "booked_df = booked_df[booked_df.HOTEL_COUNTRY_NAME != 'Turks and Caicos Islands']"
      ],
      "execution_count": null,
      "outputs": []
    },
    {
      "cell_type": "code",
      "metadata": {
        "id": "RqKcSCUncdMI"
      },
      "source": [
        "#Booking details for 2020 and arrival gap not more than a month\n",
        "booked_df['BOOKING_YEAR'] = pd.DatetimeIndex(booked_df['BOOKING_DATE']).year\n",
        "booked_df['BOOKING_MONTH'] = pd.DatetimeIndex(booked_df['BOOKING_DATE']).month\n",
        "booked_df = booked_df[(booked_df.BOOKING_YEAR != 2019) & (booked_df['ARRIVAL_AFTER'] <= 30)]\n",
        "booked_df = booked_df.drop(columns=['BOOKING_DATE','ARRIVAL_AFTER'], axis =1)"
      ],
      "execution_count": null,
      "outputs": []
    },
    {
      "cell_type": "code",
      "metadata": {
        "colab": {
          "base_uri": "https://localhost:8080/",
          "height": 204
        },
        "id": "i9ttH5kD-m4E",
        "outputId": "20aebc7b-0ad1-40c3-caa0-f5d54979d20b"
      },
      "source": [
        "booked_df.head()"
      ],
      "execution_count": null,
      "outputs": [
        {
          "output_type": "execute_result",
          "data": {
            "text/html": [
              "<div>\n",
              "<style scoped>\n",
              "    .dataframe tbody tr th:only-of-type {\n",
              "        vertical-align: middle;\n",
              "    }\n",
              "\n",
              "    .dataframe tbody tr th {\n",
              "        vertical-align: top;\n",
              "    }\n",
              "\n",
              "    .dataframe thead th {\n",
              "        text-align: right;\n",
              "    }\n",
              "</style>\n",
              "<table border=\"1\" class=\"dataframe\">\n",
              "  <thead>\n",
              "    <tr style=\"text-align: right;\">\n",
              "      <th></th>\n",
              "      <th>BOOKING_ID</th>\n",
              "      <th>HOTEL_COUNTRY_NAME</th>\n",
              "      <th>BOOKING_YEAR</th>\n",
              "      <th>BOOKING_MONTH</th>\n",
              "    </tr>\n",
              "  </thead>\n",
              "  <tbody>\n",
              "    <tr>\n",
              "      <th>0</th>\n",
              "      <td>248140012</td>\n",
              "      <td>United Kingdom</td>\n",
              "      <td>2020</td>\n",
              "      <td>3</td>\n",
              "    </tr>\n",
              "    <tr>\n",
              "      <th>1</th>\n",
              "      <td>244119532</td>\n",
              "      <td>Germany</td>\n",
              "      <td>2020</td>\n",
              "      <td>1</td>\n",
              "    </tr>\n",
              "    <tr>\n",
              "      <th>2</th>\n",
              "      <td>254834709</td>\n",
              "      <td>Poland</td>\n",
              "      <td>2020</td>\n",
              "      <td>12</td>\n",
              "    </tr>\n",
              "    <tr>\n",
              "      <th>3</th>\n",
              "      <td>249088120</td>\n",
              "      <td>China, P.R.</td>\n",
              "      <td>2020</td>\n",
              "      <td>3</td>\n",
              "    </tr>\n",
              "    <tr>\n",
              "      <th>4</th>\n",
              "      <td>245401235</td>\n",
              "      <td>Italy</td>\n",
              "      <td>2020</td>\n",
              "      <td>1</td>\n",
              "    </tr>\n",
              "  </tbody>\n",
              "</table>\n",
              "</div>"
            ],
            "text/plain": [
              "   BOOKING_ID HOTEL_COUNTRY_NAME  BOOKING_YEAR  BOOKING_MONTH\n",
              "0   248140012     United Kingdom          2020              3\n",
              "1   244119532            Germany          2020              1\n",
              "2   254834709             Poland          2020             12\n",
              "3   249088120        China, P.R.          2020              3\n",
              "4   245401235              Italy          2020              1"
            ]
          },
          "metadata": {
            "tags": []
          },
          "execution_count": 84
        }
      ]
    },
    {
      "cell_type": "code",
      "metadata": {
        "id": "iCy55naz-sHb"
      },
      "source": [
        "count_df = booked_df.groupby(['HOTEL_COUNTRY_NAME','BOOKING_YEAR','BOOKING_MONTH']).agg({'BOOKING_ID': 'count'}).reset_index()"
      ],
      "execution_count": null,
      "outputs": []
    },
    {
      "cell_type": "code",
      "metadata": {
        "id": "_YrejgPs2xwy"
      },
      "source": [
        "count_df.columns = ['COUNTRY','YEAR','MONTH','NO_OF_BOOKINGS']"
      ],
      "execution_count": null,
      "outputs": []
    },
    {
      "cell_type": "code",
      "metadata": {
        "id": "zLy5iZNH2ywo"
      },
      "source": [
        "#Merge booking data and covid data for 2020, month and country wise split\n",
        "count_df = count_df.merge(df_recent, on=['COUNTRY','MONTH','YEAR'], how='left')"
      ],
      "execution_count": null,
      "outputs": []
    },
    {
      "cell_type": "code",
      "metadata": {
        "id": "mR2uSnlCeHDQ"
      },
      "source": [
        "count_df['RECOVERY_RATE'] = count_df.RECOVERY_RATE.astype(int)"
      ],
      "execution_count": null,
      "outputs": []
    },
    {
      "cell_type": "code",
      "metadata": {
        "colab": {
          "base_uri": "https://localhost:8080/",
          "height": 204
        },
        "id": "eOt59IxlDJe8",
        "outputId": "37cf1c6f-aa56-48b4-8e27-b35bd1471e94"
      },
      "source": [
        "count_df.head()"
      ],
      "execution_count": null,
      "outputs": [
        {
          "output_type": "execute_result",
          "data": {
            "text/html": [
              "<div>\n",
              "<style scoped>\n",
              "    .dataframe tbody tr th:only-of-type {\n",
              "        vertical-align: middle;\n",
              "    }\n",
              "\n",
              "    .dataframe tbody tr th {\n",
              "        vertical-align: top;\n",
              "    }\n",
              "\n",
              "    .dataframe thead th {\n",
              "        text-align: right;\n",
              "    }\n",
              "</style>\n",
              "<table border=\"1\" class=\"dataframe\">\n",
              "  <thead>\n",
              "    <tr style=\"text-align: right;\">\n",
              "      <th></th>\n",
              "      <th>COUNTRY</th>\n",
              "      <th>YEAR</th>\n",
              "      <th>MONTH</th>\n",
              "      <th>NO_OF_BOOKINGS</th>\n",
              "      <th>RECOVERY_RATE</th>\n",
              "    </tr>\n",
              "  </thead>\n",
              "  <tbody>\n",
              "    <tr>\n",
              "      <th>0</th>\n",
              "      <td>Algeria</td>\n",
              "      <td>2020</td>\n",
              "      <td>3</td>\n",
              "      <td>1</td>\n",
              "      <td>13</td>\n",
              "    </tr>\n",
              "    <tr>\n",
              "      <th>1</th>\n",
              "      <td>Argentina</td>\n",
              "      <td>2020</td>\n",
              "      <td>1</td>\n",
              "      <td>2</td>\n",
              "      <td>0</td>\n",
              "    </tr>\n",
              "    <tr>\n",
              "      <th>2</th>\n",
              "      <td>Argentina</td>\n",
              "      <td>2020</td>\n",
              "      <td>2</td>\n",
              "      <td>1</td>\n",
              "      <td>0</td>\n",
              "    </tr>\n",
              "    <tr>\n",
              "      <th>3</th>\n",
              "      <td>Argentina</td>\n",
              "      <td>2020</td>\n",
              "      <td>3</td>\n",
              "      <td>1</td>\n",
              "      <td>5</td>\n",
              "    </tr>\n",
              "    <tr>\n",
              "      <th>4</th>\n",
              "      <td>Australia</td>\n",
              "      <td>2020</td>\n",
              "      <td>1</td>\n",
              "      <td>8</td>\n",
              "      <td>1</td>\n",
              "    </tr>\n",
              "  </tbody>\n",
              "</table>\n",
              "</div>"
            ],
            "text/plain": [
              "     COUNTRY  YEAR  MONTH  NO_OF_BOOKINGS  RECOVERY_RATE\n",
              "0    Algeria  2020      3               1             13\n",
              "1  Argentina  2020      1               2              0\n",
              "2  Argentina  2020      2               1              0\n",
              "3  Argentina  2020      3               1              5\n",
              "4  Australia  2020      1               8              1"
            ]
          },
          "metadata": {
            "tags": []
          },
          "execution_count": 89
        }
      ]
    },
    {
      "cell_type": "markdown",
      "metadata": {
        "id": "qpjQRmzSRbQY"
      },
      "source": [
        "# Cat Boost classifier"
      ]
    },
    {
      "cell_type": "code",
      "metadata": {
        "id": "opo_vYQeZ-pi"
      },
      "source": [
        "from sklearn.impute import SimpleImputer\n",
        "from sklearn.preprocessing import LabelEncoder, OneHotEncoder\n",
        "from sklearn.pipeline import Pipeline\n",
        "from sklearn.compose import ColumnTransformer"
      ],
      "execution_count": null,
      "outputs": []
    },
    {
      "cell_type": "code",
      "metadata": {
        "colab": {
          "base_uri": "https://localhost:8080/",
          "height": 419
        },
        "id": "aTm-6KdHaElY",
        "outputId": "57e1889b-978a-4880-e8d6-f3711e567ce9"
      },
      "source": [
        "count_df"
      ],
      "execution_count": null,
      "outputs": [
        {
          "output_type": "execute_result",
          "data": {
            "text/html": [
              "<div>\n",
              "<style scoped>\n",
              "    .dataframe tbody tr th:only-of-type {\n",
              "        vertical-align: middle;\n",
              "    }\n",
              "\n",
              "    .dataframe tbody tr th {\n",
              "        vertical-align: top;\n",
              "    }\n",
              "\n",
              "    .dataframe thead th {\n",
              "        text-align: right;\n",
              "    }\n",
              "</style>\n",
              "<table border=\"1\" class=\"dataframe\">\n",
              "  <thead>\n",
              "    <tr style=\"text-align: right;\">\n",
              "      <th></th>\n",
              "      <th>COUNTRY</th>\n",
              "      <th>YEAR</th>\n",
              "      <th>MONTH</th>\n",
              "      <th>NO_OF_BOOKINGS</th>\n",
              "      <th>RECOVERY_RATE</th>\n",
              "    </tr>\n",
              "  </thead>\n",
              "  <tbody>\n",
              "    <tr>\n",
              "      <th>0</th>\n",
              "      <td>Algeria</td>\n",
              "      <td>2020</td>\n",
              "      <td>3</td>\n",
              "      <td>1</td>\n",
              "      <td>13</td>\n",
              "    </tr>\n",
              "    <tr>\n",
              "      <th>1</th>\n",
              "      <td>Argentina</td>\n",
              "      <td>2020</td>\n",
              "      <td>1</td>\n",
              "      <td>2</td>\n",
              "      <td>0</td>\n",
              "    </tr>\n",
              "    <tr>\n",
              "      <th>2</th>\n",
              "      <td>Argentina</td>\n",
              "      <td>2020</td>\n",
              "      <td>2</td>\n",
              "      <td>1</td>\n",
              "      <td>0</td>\n",
              "    </tr>\n",
              "    <tr>\n",
              "      <th>3</th>\n",
              "      <td>Argentina</td>\n",
              "      <td>2020</td>\n",
              "      <td>3</td>\n",
              "      <td>1</td>\n",
              "      <td>5</td>\n",
              "    </tr>\n",
              "    <tr>\n",
              "      <th>4</th>\n",
              "      <td>Australia</td>\n",
              "      <td>2020</td>\n",
              "      <td>1</td>\n",
              "      <td>8</td>\n",
              "      <td>1</td>\n",
              "    </tr>\n",
              "    <tr>\n",
              "      <th>...</th>\n",
              "      <td>...</td>\n",
              "      <td>...</td>\n",
              "      <td>...</td>\n",
              "      <td>...</td>\n",
              "      <td>...</td>\n",
              "    </tr>\n",
              "    <tr>\n",
              "      <th>409</th>\n",
              "      <td>United Kingdom</td>\n",
              "      <td>2020</td>\n",
              "      <td>9</td>\n",
              "      <td>17</td>\n",
              "      <td>895</td>\n",
              "    </tr>\n",
              "    <tr>\n",
              "      <th>410</th>\n",
              "      <td>United Kingdom</td>\n",
              "      <td>2020</td>\n",
              "      <td>10</td>\n",
              "      <td>9</td>\n",
              "      <td>1104</td>\n",
              "    </tr>\n",
              "    <tr>\n",
              "      <th>411</th>\n",
              "      <td>United Kingdom</td>\n",
              "      <td>2020</td>\n",
              "      <td>11</td>\n",
              "      <td>6</td>\n",
              "      <td>1256</td>\n",
              "    </tr>\n",
              "    <tr>\n",
              "      <th>412</th>\n",
              "      <td>United Kingdom</td>\n",
              "      <td>2020</td>\n",
              "      <td>12</td>\n",
              "      <td>5</td>\n",
              "      <td>880</td>\n",
              "    </tr>\n",
              "    <tr>\n",
              "      <th>413</th>\n",
              "      <td>Uruguay</td>\n",
              "      <td>2020</td>\n",
              "      <td>10</td>\n",
              "      <td>1</td>\n",
              "      <td>84</td>\n",
              "    </tr>\n",
              "  </tbody>\n",
              "</table>\n",
              "<p>414 rows × 5 columns</p>\n",
              "</div>"
            ],
            "text/plain": [
              "            COUNTRY  YEAR  MONTH  NO_OF_BOOKINGS  RECOVERY_RATE\n",
              "0           Algeria  2020      3               1             13\n",
              "1         Argentina  2020      1               2              0\n",
              "2         Argentina  2020      2               1              0\n",
              "3         Argentina  2020      3               1              5\n",
              "4         Australia  2020      1               8              1\n",
              "..              ...   ...    ...             ...            ...\n",
              "409  United Kingdom  2020      9              17            895\n",
              "410  United Kingdom  2020     10               9           1104\n",
              "411  United Kingdom  2020     11               6           1256\n",
              "412  United Kingdom  2020     12               5            880\n",
              "413         Uruguay  2020     10               1             84\n",
              "\n",
              "[414 rows x 5 columns]"
            ]
          },
          "metadata": {
            "tags": []
          },
          "execution_count": 91
        }
      ]
    },
    {
      "cell_type": "code",
      "metadata": {
        "colab": {
          "base_uri": "https://localhost:8080/"
        },
        "id": "jPWkKkn5Z_ba",
        "outputId": "330c19ae-365c-47a7-9b48-4abe847b95cf"
      },
      "source": [
        "#Output label - country\n",
        "X = count_df.drop(columns=['COUNTRY'], axis=1).copy()\n",
        "y = count_df['COUNTRY'].copy()\n",
        "\n",
        "label_enc = LabelEncoder()\n",
        "y = label_enc.fit_transform(y)\n",
        "X.shape, y.shape"
      ],
      "execution_count": null,
      "outputs": [
        {
          "output_type": "execute_result",
          "data": {
            "text/plain": [
              "((414, 4), (414,))"
            ]
          },
          "metadata": {
            "tags": []
          },
          "execution_count": 92
        }
      ]
    },
    {
      "cell_type": "code",
      "metadata": {
        "colab": {
          "base_uri": "https://localhost:8080/"
        },
        "id": "Vl_RYM30Z_YD",
        "outputId": "c432cb8a-2bb5-4a81-f6c5-3fd7ac2ee439"
      },
      "source": [
        "label_enc.classes_"
      ],
      "execution_count": null,
      "outputs": [
        {
          "output_type": "execute_result",
          "data": {
            "text/plain": [
              "array(['Algeria', 'Argentina', 'Australia', 'Austria', 'Belgium',\n",
              "       'Bolivia', 'Bosnia and Herzegovina', 'Brazil', 'Brunei',\n",
              "       'Bulgaria', 'Cameroon', 'Canada', 'Chile', 'China, P.R.',\n",
              "       'Colombia', 'Costa Rica', 'Croatia', 'Cyprus', 'Czech Republic',\n",
              "       'Denmark', 'Dominican Republic', 'Egypt', 'Estonia', 'Finland',\n",
              "       'France', 'Georgia', 'Germany', 'Greece', 'Hungary', 'India',\n",
              "       'Indonesia', 'Ireland', 'Israel', 'Italy', 'Japan', 'Kazakhstan',\n",
              "       'Kenya', 'Korea (South)', 'Kosovo', 'Kuwait', 'Latvia',\n",
              "       'Lithuania', 'Luxembourg', 'Madagascar', 'Malaysia', 'Malta',\n",
              "       'Mexico', 'Morocco', 'Nepal', 'Netherlands', 'New Zealand',\n",
              "       'Norway', 'Panama', 'Peru', 'Philippines', 'Poland', 'Portugal',\n",
              "       'Romania', 'Russia', 'Saudi Arabia', 'Senegal', 'Serbia',\n",
              "       'Singapore', 'Slovakia', 'Slovenia', 'South Africa', 'Spain',\n",
              "       'Sweden', 'Switzerland', 'Taiwan (China)', 'Thailand', 'Tunisia',\n",
              "       'Turkey', 'USA', 'Uganda', 'Ukraine', 'United Arab Emirates',\n",
              "       'United Kingdom', 'Uruguay'], dtype=object)"
            ]
          },
          "metadata": {
            "tags": []
          },
          "execution_count": 93
        }
      ]
    },
    {
      "cell_type": "code",
      "metadata": {
        "colab": {
          "base_uri": "https://localhost:8080/"
        },
        "id": "o-EQFOD8Z_Tk",
        "outputId": "49daf581-f00e-48c3-fb6a-b2803dce1b2a"
      },
      "source": [
        "#Test and Train data split\n",
        "from sklearn.model_selection import train_test_split\n",
        "\n",
        "X_train, X_test, y_train, y_test = train_test_split(X, y, test_size=0.2, random_state=42)\n",
        "X_train.shape, X_test.shape"
      ],
      "execution_count": null,
      "outputs": [
        {
          "output_type": "execute_result",
          "data": {
            "text/plain": [
              "((331, 4), (83, 4))"
            ]
          },
          "metadata": {
            "tags": []
          },
          "execution_count": 94
        }
      ]
    },
    {
      "cell_type": "code",
      "metadata": {
        "id": "kuzWb9bgZ_RR"
      },
      "source": [
        "from sklearn.model_selection import GridSearchCV, KFold, cross_val_score"
      ],
      "execution_count": null,
      "outputs": []
    },
    {
      "cell_type": "code",
      "metadata": {
        "id": "3ijfImZUZ_Ok"
      },
      "source": [
        "kf = KFold(n_splits=5, shuffle=True, random_state=42)"
      ],
      "execution_count": null,
      "outputs": []
    },
    {
      "cell_type": "code",
      "metadata": {
        "id": "OqATwhmIZ_MU"
      },
      "source": [
        "from sklearn.preprocessing import LabelBinarizer\n",
        "from sklearn.metrics import make_scorer, ndcg_score\n",
        "ndcg_scorer = make_scorer(ndcg_score, needs_proba=True, k=5)\n",
        "\n",
        "def dcg_score(y_true, y_score, k=5):\n",
        "    \"\"\"Discounted cumulative gain (DCG) at rank K.\n",
        "\n",
        "    Parameters\n",
        "    ----------\n",
        "    y_true : array, shape = [n_samples]\n",
        "        Ground truth (true relevance labels).\n",
        "    y_score : array, shape = [n_samples, n_classes]\n",
        "        Predicted scores.\n",
        "    k : int\n",
        "        Rank.\n",
        "\n",
        "    Returns\n",
        "    -------\n",
        "    score : float\n",
        "    \"\"\"\n",
        "    order = np.argsort(y_score)[::-1]\n",
        "    y_true = np.take(y_true, order[:k])\n",
        "\n",
        "    gain = 2 ** y_true - 1\n",
        "\n",
        "    discounts = np.log2(np.arange(len(y_true)) + 2)\n",
        "    return np.sum(gain / discounts)\n",
        "\n",
        "\n",
        "def ndcg_score(ground_truth, predictions, k=5):\n",
        "    \"\"\"Normalized discounted cumulative gain (NDCG) at rank K.\n",
        "\n",
        "    Normalized Discounted Cumulative Gain (NDCG) measures the performance of a\n",
        "    recommendation system based on the graded relevance of the recommended\n",
        "    entities. It varies from 0.0 to 1.0, with 1.0 representing the ideal\n",
        "    ranking of the entities.\n",
        "\n",
        "    Parameters\n",
        "    ----------\n",
        "    ground_truth : array, shape = [n_samples]\n",
        "        Ground truth (true labels represended as integers).\n",
        "    predictions : array, shape = [n_samples, n_classes]\n",
        "        Predicted probabilities.\n",
        "    k : int\n",
        "        Rank.\n",
        "\n",
        "    Returns\n",
        "    -------\n",
        "    score : float\n",
        "\n",
        "    Example\n",
        "    -------\n",
        "    >>> ground_truth = [1, 0, 2]\n",
        "    >>> predictions = [[0.15, 0.55, 0.2], [0.7, 0.2, 0.1], [0.06, 0.04, 0.9]]\n",
        "    >>> score = ndcg_score(ground_truth, predictions, k=2)\n",
        "    1.0\n",
        "    >>> predictions = [[0.9, 0.5, 0.8], [0.7, 0.2, 0.1], [0.06, 0.04, 0.9]]\n",
        "    >>> score = ndcg_score(ground_truth, predictions, k=2)\n",
        "    0.6666666666\n",
        "    \"\"\"\n",
        "    lb = LabelBinarizer()\n",
        "    lb.fit(range(len(predictions) + 1))\n",
        "    T = lb.transform(ground_truth)\n",
        "\n",
        "    scores = []\n",
        "\n",
        "    # Iterate over each y_true and compute the DCG score\n",
        "    for y_true, y_score in zip(T, predictions):\n",
        "        actual = dcg_score(y_true, y_score, k)\n",
        "        best = dcg_score(y_true, y_true, k)\n",
        "        score = float(actual) / float(best)\n",
        "        scores.append(score)\n",
        "\n",
        "    return np.mean(scores)\n",
        "\n",
        "\n",
        "# NDCG Scorer function\n",
        "ndcg_scorer = make_scorer(ndcg_score, needs_proba=True, k=5)"
      ],
      "execution_count": null,
      "outputs": []
    },
    {
      "cell_type": "code",
      "metadata": {
        "id": "2Xas_F5KZ_Jn"
      },
      "source": [
        "def grid_search(model, grid_param):\n",
        "    print(\"Obtaining Best Model for {}\".format(model.__class__.__name__))\n",
        "    grid_search = GridSearchCV(model, grid_param, cv=kf, scoring=ndcg_scorer, return_train_score=True, n_jobs=-1)\n",
        "    grid_search.fit(X_train, y_train)\n",
        "    \n",
        "    print(\"Best Parameters: \", grid_search.best_params_)\n",
        "    print(\"Best Score: \", grid_search.best_score_)\n",
        "    \n",
        "    cvres = grid_search.cv_results_\n",
        "    print(\"Results for each run of {}...\".format(model.__class__.__name__))\n",
        "    for train_mean_score, test_mean_score, params in zip(cvres[\"mean_train_score\"], cvres[\"mean_test_score\"], cvres[\"params\"]):\n",
        "        print(train_mean_score, test_mean_score, params)\n",
        "        \n",
        "    return grid_search.best_estimator_"
      ],
      "execution_count": null,
      "outputs": []
    },
    {
      "cell_type": "code",
      "metadata": {
        "id": "5E0o1vGTZ_Gy"
      },
      "source": [
        "results = []\n",
        "    \n",
        "def performance_measures(model, store_results=True):\n",
        "    train_ndcg = cross_val_score(model, X_train, y_train, scoring=ndcg_scorer, cv=kf, n_jobs=-1)\n",
        "    test_ndcg = cross_val_score(model, X_test_transformed, y_test, scoring=ndcg_scorer, cv=kf, n_jobs=-1)\n",
        "    print(\"Mean Train NDGC: {}\\nMean Test NDGC: {}\".format(train_ndcg.mean(), test_ndcg.mean()))"
      ],
      "execution_count": null,
      "outputs": []
    },
    {
      "cell_type": "code",
      "metadata": {
        "id": "yTiKE0b-Z-1Y"
      },
      "source": [
        "def plot_feature_importance(feature_columns, importance_values,top_n_features=0):\n",
        "    feature_imp = [ col for col in zip(feature_columns, importance_values)]\n",
        "    feature_imp.sort(key=lambda x:x[1], reverse=True)\n",
        "\n",
        "    if top_n_features:\n",
        "        imp = pd.DataFrame(feature_imp[0:top_n_features], columns=['feature', 'importance'])\n",
        "    else:\n",
        "        imp = pd.DataFrame(feature_imp, columns=['feature', 'importance'])\n",
        "    plt.figure(figsize=(10, 8))\n",
        "    sns.barplot(y='feature', x='importance', data=imp, orient='h')\n",
        "    plt.title('Most Important Features', fontsize=16)\n",
        "    plt.ylabel(\"Feature\", fontsize=16)\n",
        "    plt.xlabel(\"\")\n",
        "    plt.show()"
      ],
      "execution_count": null,
      "outputs": []
    },
    {
      "cell_type": "code",
      "metadata": {
        "colab": {
          "base_uri": "https://localhost:8080/"
        },
        "id": "Qx6OXME1Z-xm",
        "outputId": "4230a796-6bbd-418e-c011-e76ed21b243c"
      },
      "source": [
        "!pip install catboost"
      ],
      "execution_count": null,
      "outputs": [
        {
          "output_type": "stream",
          "text": [
            "Requirement already satisfied: catboost in /usr/local/lib/python3.6/dist-packages (0.24.4)\n",
            "Requirement already satisfied: matplotlib in /usr/local/lib/python3.6/dist-packages (from catboost) (3.2.2)\n",
            "Requirement already satisfied: six in /usr/local/lib/python3.6/dist-packages (from catboost) (1.15.0)\n",
            "Requirement already satisfied: plotly in /usr/local/lib/python3.6/dist-packages (from catboost) (4.4.1)\n",
            "Requirement already satisfied: pandas>=0.24.0 in /usr/local/lib/python3.6/dist-packages (from catboost) (1.1.5)\n",
            "Requirement already satisfied: numpy>=1.16.0 in /usr/local/lib/python3.6/dist-packages (from catboost) (1.19.5)\n",
            "Requirement already satisfied: graphviz in /usr/local/lib/python3.6/dist-packages (from catboost) (0.10.1)\n",
            "Requirement already satisfied: scipy in /usr/local/lib/python3.6/dist-packages (from catboost) (1.4.1)\n",
            "Requirement already satisfied: kiwisolver>=1.0.1 in /usr/local/lib/python3.6/dist-packages (from matplotlib->catboost) (1.3.1)\n",
            "Requirement already satisfied: pyparsing!=2.0.4,!=2.1.2,!=2.1.6,>=2.0.1 in /usr/local/lib/python3.6/dist-packages (from matplotlib->catboost) (2.4.7)\n",
            "Requirement already satisfied: cycler>=0.10 in /usr/local/lib/python3.6/dist-packages (from matplotlib->catboost) (0.10.0)\n",
            "Requirement already satisfied: python-dateutil>=2.1 in /usr/local/lib/python3.6/dist-packages (from matplotlib->catboost) (2.8.1)\n",
            "Requirement already satisfied: retrying>=1.3.3 in /usr/local/lib/python3.6/dist-packages (from plotly->catboost) (1.3.3)\n",
            "Requirement already satisfied: pytz>=2017.2 in /usr/local/lib/python3.6/dist-packages (from pandas>=0.24.0->catboost) (2018.9)\n"
          ],
          "name": "stdout"
        }
      ]
    },
    {
      "cell_type": "code",
      "metadata": {
        "colab": {
          "base_uri": "https://localhost:8080/"
        },
        "id": "pNp-jBXvZ-vK",
        "outputId": "b924bccd-c786-4905-cd54-29f51d187f88"
      },
      "source": [
        "from catboost import CatBoostClassifier\n",
        "\n",
        "catboost_grid_params = [{'iterations':[500], 'depth':[4, 6],}]\n",
        "\n",
        "catboost_clf = CatBoostClassifier(task_type=\"GPU\", loss_function='MultiClass', bagging_temperature=0.3, \n",
        "                                  cat_features=[1, 2, 3], random_state=42, verbose=0)\n",
        "\n",
        "grid_search_results = catboost_clf.grid_search(catboost_grid_params,\n",
        "            X_train,\n",
        "            y_train,\n",
        "            cv=5,\n",
        "            partition_random_seed=42,\n",
        "            calc_cv_statistics=True,\n",
        "            search_by_train_test_split=True,\n",
        "            refit=True,\n",
        "            shuffle=True,\n",
        "            stratified=None,\n",
        "            train_size=0.8,\n",
        "            verbose=0,\n",
        "            plot=False)"
      ],
      "execution_count": null,
      "outputs": [
        {
          "output_type": "stream",
          "text": [
            "bestTest = 3.992474001\n",
            "bestIteration = 224\n",
            "bestTest = 4.09466826\n",
            "bestIteration = 242\n"
          ],
          "name": "stdout"
        },
        {
          "output_type": "stream",
          "text": [
            " Warning: The least populated class in y has only 1 members, which is too few. The minimum number of members in any class cannot be less than parts count=5\n"
          ],
          "name": "stderr"
        }
      ]
    },
    {
      "cell_type": "code",
      "metadata": {
        "colab": {
          "base_uri": "https://localhost:8080/"
        },
        "id": "JGeHMHisZ-sZ",
        "outputId": "10b5190c-bfd0-43de-9629-df647192e371"
      },
      "source": [
        "grid_search_results['params']"
      ],
      "execution_count": null,
      "outputs": [
        {
          "output_type": "execute_result",
          "data": {
            "text/plain": [
              "{'depth': 4, 'iterations': 500}"
            ]
          },
          "metadata": {
            "tags": []
          },
          "execution_count": 103
        }
      ]
    },
    {
      "cell_type": "code",
      "metadata": {
        "colab": {
          "base_uri": "https://localhost:8080/"
        },
        "id": "qjzXF3Hyak8S",
        "outputId": "80e24f94-d5bb-46b4-d5ae-2ee5485285b9"
      },
      "source": [
        "catboost_clf.is_fitted()"
      ],
      "execution_count": null,
      "outputs": [
        {
          "output_type": "execute_result",
          "data": {
            "text/plain": [
              "True"
            ]
          },
          "metadata": {
            "tags": []
          },
          "execution_count": 104
        }
      ]
    },
    {
      "cell_type": "code",
      "metadata": {
        "colab": {
          "base_uri": "https://localhost:8080/"
        },
        "id": "DuWhSP5Dak5E",
        "outputId": "8ff0f7c4-37ab-435f-8975-5043e520afe4"
      },
      "source": [
        "catboost_clf.feature_importances_"
      ],
      "execution_count": null,
      "outputs": [
        {
          "output_type": "execute_result",
          "data": {
            "text/plain": [
              "array([ 0.        , 31.19382991, 35.10337077, 33.70279932])"
            ]
          },
          "metadata": {
            "tags": []
          },
          "execution_count": 105
        }
      ]
    },
    {
      "cell_type": "code",
      "metadata": {
        "colab": {
          "base_uri": "https://localhost:8080/",
          "height": 501
        },
        "id": "B7J0BLVZakz0",
        "outputId": "4865b651-b267-4fd0-abcb-45a61de46eea"
      },
      "source": [
        "import seaborn as sns\n",
        "plot_feature_importance(['YEAR', 'MONTH', 'NO_OF_BOOKINGS','RECOVERY_RATE'], catboost_clf.feature_importances_)"
      ],
      "execution_count": null,
      "outputs": [
        {
          "output_type": "display_data",
          "data": {
            "image/png": "[encoded data removed]",
            "text/plain": [
              "<Figure size 720x576 with 1 Axes>"
            ]
          },
          "metadata": {
            "tags": [],
            "needs_background": "light"
          }
        }
      ]
    },
    {
      "cell_type": "code",
      "metadata": {
        "colab": {
          "base_uri": "https://localhost:8080/"
        },
        "id": "jLdqW9LZakxj",
        "outputId": "b1112b62-9bad-48c5-f2fe-4f0d60c7f949"
      },
      "source": [
        "predicted_country = catboost_clf.predict(X)\n",
        "predicted_country = label_enc.inverse_transform(predicted_country)\n",
        "count_df['PREDICTED_COUNTRY'] = predicted_country"
      ],
      "execution_count": null,
      "outputs": [
        {
          "output_type": "stream",
          "text": [
            "/usr/local/lib/python3.6/dist-packages/sklearn/preprocessing/_label.py:289: DataConversionWarning: A column-vector y was passed when a 1d array was expected. Please change the shape of y to (n_samples, ), for example using ravel().\n",
            "  y = column_or_1d(y, warn=True)\n"
          ],
          "name": "stderr"
        }
      ]
    },
    {
      "cell_type": "code",
      "metadata": {
        "colab": {
          "base_uri": "https://localhost:8080/",
          "height": 1000
        },
        "id": "1gXWjtJSaku3",
        "outputId": "0f81a84d-7bc4-45bd-899f-5a82167ee424"
      },
      "source": [
        "plt.figure(figsize=(20, 20))\n",
        "plt.subplot(2, 1, 1)\n",
        "ax = sns.countplot(x='COUNTRY', data=count_df, order=count_df.COUNTRY.value_counts(ascending=False).iloc[:20].index)\n",
        "for p in ax.patches:\n",
        "    ax.annotate('{}'.format(p.get_height()), (p.get_x()+0.1, p.get_height()+10))\n",
        "plt.subplot(2, 1, 2)\n",
        "ax = sns.countplot(x='PREDICTED_COUNTRY', data=count_df, order=count_df.PREDICTED_COUNTRY.value_counts(ascending=False).iloc[:20].index)\n",
        "for p in ax.patches:\n",
        "    ax.annotate('{}'.format(p.get_height()), (p.get_x()+0.1, p.get_height()+10))"
      ],
      "execution_count": null,
      "outputs": [
        {
          "output_type": "display_data",
          "data": {
            "image/png": "[encoded data removed]",
            "text/plain": [
              "<Figure size 1440x1440 with 2 Axes>"
            ]
          },
          "metadata": {
            "tags": [],
            "needs_background": "light"
          }
        }
      ]
    },
    {
      "cell_type": "markdown",
      "metadata": {
        "id": "aOgVQ20J4GbE"
      },
      "source": [
        "###Countries predicted more often in 2020"
      ]
    },
    {
      "cell_type": "code",
      "metadata": {
        "id": "8j3LrnHneyoT",
        "colab": {
          "base_uri": "https://localhost:8080/",
          "height": 1000
        },
        "outputId": "b1fe2733-b3dd-4b41-d1a6-67149b2d2094"
      },
      "source": [
        "plt.figure(figsize=(20, 20))\n",
        "ax = sns.countplot(x='PREDICTED_COUNTRY', data=count_df, order=count_df.PREDICTED_COUNTRY.value_counts(ascending=False).iloc[:20].index)\n",
        "for p in ax.patches:\n",
        "    ax.annotate('{}'.format(p.get_height()), (p.get_x()+0.1, p.get_height()+10))"
      ],
      "execution_count": null,
      "outputs": [
        {
          "output_type": "display_data",
          "data": {
            "image/png": "[encoded data removed]",
            "text/plain": [
              "<Figure size 1440x1440 with 1 Axes>"
            ]
          },
          "metadata": {
            "tags": [],
            "needs_background": "light"
          }
        }
      ]
    },
    {
      "cell_type": "markdown",
      "metadata": {
        "id": "X718u2nc3_Oo"
      },
      "source": [
        "###Countries with maximum recovery rate in 2020"
      ]
    },
    {
      "cell_type": "code",
      "metadata": {
        "colab": {
          "base_uri": "https://localhost:8080/",
          "height": 419
        },
        "id": "YlVEW214xuNf",
        "outputId": "c118774a-d124-45e8-8b14-74664280c42d"
      },
      "source": [
        "plot_df = count_df.drop(columns=['YEAR','MONTH'], axis =1)\n",
        "plot_df = count_df.groupby(['COUNTRY']).agg({'RECOVERY_RATE': 'sum', 'NO_OF_BOOKINGS':'sum'}).reset_index()\n",
        "plot_df"
      ],
      "execution_count": null,
      "outputs": [
        {
          "output_type": "execute_result",
          "data": {
            "text/html": [
              "<div>\n",
              "<style scoped>\n",
              "    .dataframe tbody tr th:only-of-type {\n",
              "        vertical-align: middle;\n",
              "    }\n",
              "\n",
              "    .dataframe tbody tr th {\n",
              "        vertical-align: top;\n",
              "    }\n",
              "\n",
              "    .dataframe thead th {\n",
              "        text-align: right;\n",
              "    }\n",
              "</style>\n",
              "<table border=\"1\" class=\"dataframe\">\n",
              "  <thead>\n",
              "    <tr style=\"text-align: right;\">\n",
              "      <th></th>\n",
              "      <th>COUNTRY</th>\n",
              "      <th>RECOVERY_RATE</th>\n",
              "      <th>NO_OF_BOOKINGS</th>\n",
              "    </tr>\n",
              "  </thead>\n",
              "  <tbody>\n",
              "    <tr>\n",
              "      <th>0</th>\n",
              "      <td>Algeria</td>\n",
              "      <td>13</td>\n",
              "      <td>1</td>\n",
              "    </tr>\n",
              "    <tr>\n",
              "      <th>1</th>\n",
              "      <td>Argentina</td>\n",
              "      <td>5</td>\n",
              "      <td>4</td>\n",
              "    </tr>\n",
              "    <tr>\n",
              "      <th>2</th>\n",
              "      <td>Australia</td>\n",
              "      <td>8737</td>\n",
              "      <td>51</td>\n",
              "    </tr>\n",
              "    <tr>\n",
              "      <th>3</th>\n",
              "      <td>Austria</td>\n",
              "      <td>671</td>\n",
              "      <td>166</td>\n",
              "    </tr>\n",
              "    <tr>\n",
              "      <th>4</th>\n",
              "      <td>Belgium</td>\n",
              "      <td>188</td>\n",
              "      <td>64</td>\n",
              "    </tr>\n",
              "    <tr>\n",
              "      <th>...</th>\n",
              "      <td>...</td>\n",
              "      <td>...</td>\n",
              "      <td>...</td>\n",
              "    </tr>\n",
              "    <tr>\n",
              "      <th>74</th>\n",
              "      <td>Uganda</td>\n",
              "      <td>0</td>\n",
              "      <td>1</td>\n",
              "    </tr>\n",
              "    <tr>\n",
              "      <th>75</th>\n",
              "      <td>Ukraine</td>\n",
              "      <td>43</td>\n",
              "      <td>3</td>\n",
              "    </tr>\n",
              "    <tr>\n",
              "      <th>76</th>\n",
              "      <td>United Arab Emirates</td>\n",
              "      <td>127</td>\n",
              "      <td>8</td>\n",
              "    </tr>\n",
              "    <tr>\n",
              "      <th>77</th>\n",
              "      <td>United Kingdom</td>\n",
              "      <td>7541</td>\n",
              "      <td>227</td>\n",
              "    </tr>\n",
              "    <tr>\n",
              "      <th>78</th>\n",
              "      <td>Uruguay</td>\n",
              "      <td>84</td>\n",
              "      <td>1</td>\n",
              "    </tr>\n",
              "  </tbody>\n",
              "</table>\n",
              "<p>79 rows × 3 columns</p>\n",
              "</div>"
            ],
            "text/plain": [
              "                 COUNTRY  RECOVERY_RATE  NO_OF_BOOKINGS\n",
              "0                Algeria             13               1\n",
              "1              Argentina              5               4\n",
              "2              Australia           8737              51\n",
              "3                Austria            671             166\n",
              "4                Belgium            188              64\n",
              "..                   ...            ...             ...\n",
              "74                Uganda              0               1\n",
              "75               Ukraine             43               3\n",
              "76  United Arab Emirates            127               8\n",
              "77        United Kingdom           7541             227\n",
              "78               Uruguay             84               1\n",
              "\n",
              "[79 rows x 3 columns]"
            ]
          },
          "metadata": {
            "tags": []
          },
          "execution_count": 110
        }
      ]
    },
    {
      "cell_type": "code",
      "metadata": {
        "colab": {
          "base_uri": "https://localhost:8080/",
          "height": 669
        },
        "id": "Xm9Ewabe1TKf",
        "outputId": "674fcf9f-788d-4b28-d598-8dc089ad93f2"
      },
      "source": [
        "rate_df = plot_df[plot_df['RECOVERY_RATE'] > 390]\n",
        "rate_df"
      ],
      "execution_count": null,
      "outputs": [
        {
          "output_type": "execute_result",
          "data": {
            "text/html": [
              "<div>\n",
              "<style scoped>\n",
              "    .dataframe tbody tr th:only-of-type {\n",
              "        vertical-align: middle;\n",
              "    }\n",
              "\n",
              "    .dataframe tbody tr th {\n",
              "        vertical-align: top;\n",
              "    }\n",
              "\n",
              "    .dataframe thead th {\n",
              "        text-align: right;\n",
              "    }\n",
              "</style>\n",
              "<table border=\"1\" class=\"dataframe\">\n",
              "  <thead>\n",
              "    <tr style=\"text-align: right;\">\n",
              "      <th></th>\n",
              "      <th>COUNTRY</th>\n",
              "      <th>RECOVERY_RATE</th>\n",
              "      <th>NO_OF_BOOKINGS</th>\n",
              "    </tr>\n",
              "  </thead>\n",
              "  <tbody>\n",
              "    <tr>\n",
              "      <th>2</th>\n",
              "      <td>Australia</td>\n",
              "      <td>8737</td>\n",
              "      <td>51</td>\n",
              "    </tr>\n",
              "    <tr>\n",
              "      <th>3</th>\n",
              "      <td>Austria</td>\n",
              "      <td>671</td>\n",
              "      <td>166</td>\n",
              "    </tr>\n",
              "    <tr>\n",
              "      <th>7</th>\n",
              "      <td>Brazil</td>\n",
              "      <td>621</td>\n",
              "      <td>253</td>\n",
              "    </tr>\n",
              "    <tr>\n",
              "      <th>11</th>\n",
              "      <td>Canada</td>\n",
              "      <td>2789517</td>\n",
              "      <td>42</td>\n",
              "    </tr>\n",
              "    <tr>\n",
              "      <th>13</th>\n",
              "      <td>China, P.R.</td>\n",
              "      <td>91699</td>\n",
              "      <td>1914</td>\n",
              "    </tr>\n",
              "    <tr>\n",
              "      <th>18</th>\n",
              "      <td>Czech Republic</td>\n",
              "      <td>527</td>\n",
              "      <td>69</td>\n",
              "    </tr>\n",
              "    <tr>\n",
              "      <th>19</th>\n",
              "      <td>Denmark</td>\n",
              "      <td>105167</td>\n",
              "      <td>34</td>\n",
              "    </tr>\n",
              "    <tr>\n",
              "      <th>24</th>\n",
              "      <td>France</td>\n",
              "      <td>255481</td>\n",
              "      <td>754</td>\n",
              "    </tr>\n",
              "    <tr>\n",
              "      <th>26</th>\n",
              "      <td>Germany</td>\n",
              "      <td>755</td>\n",
              "      <td>5221</td>\n",
              "    </tr>\n",
              "    <tr>\n",
              "      <th>29</th>\n",
              "      <td>India</td>\n",
              "      <td>480</td>\n",
              "      <td>75</td>\n",
              "    </tr>\n",
              "    <tr>\n",
              "      <th>33</th>\n",
              "      <td>Italy</td>\n",
              "      <td>558</td>\n",
              "      <td>539</td>\n",
              "    </tr>\n",
              "    <tr>\n",
              "      <th>34</th>\n",
              "      <td>Japan</td>\n",
              "      <td>629</td>\n",
              "      <td>30</td>\n",
              "    </tr>\n",
              "    <tr>\n",
              "      <th>46</th>\n",
              "      <td>Mexico</td>\n",
              "      <td>564</td>\n",
              "      <td>40</td>\n",
              "    </tr>\n",
              "    <tr>\n",
              "      <th>49</th>\n",
              "      <td>Netherlands</td>\n",
              "      <td>1638</td>\n",
              "      <td>91</td>\n",
              "    </tr>\n",
              "    <tr>\n",
              "      <th>51</th>\n",
              "      <td>Norway</td>\n",
              "      <td>398</td>\n",
              "      <td>21</td>\n",
              "    </tr>\n",
              "    <tr>\n",
              "      <th>55</th>\n",
              "      <td>Poland</td>\n",
              "      <td>496</td>\n",
              "      <td>283</td>\n",
              "    </tr>\n",
              "    <tr>\n",
              "      <th>58</th>\n",
              "      <td>Russia</td>\n",
              "      <td>598</td>\n",
              "      <td>25</td>\n",
              "    </tr>\n",
              "    <tr>\n",
              "      <th>63</th>\n",
              "      <td>Slovakia</td>\n",
              "      <td>391</td>\n",
              "      <td>15</td>\n",
              "    </tr>\n",
              "    <tr>\n",
              "      <th>68</th>\n",
              "      <td>Switzerland</td>\n",
              "      <td>623</td>\n",
              "      <td>113</td>\n",
              "    </tr>\n",
              "    <tr>\n",
              "      <th>77</th>\n",
              "      <td>United Kingdom</td>\n",
              "      <td>7541</td>\n",
              "      <td>227</td>\n",
              "    </tr>\n",
              "  </tbody>\n",
              "</table>\n",
              "</div>"
            ],
            "text/plain": [
              "           COUNTRY  RECOVERY_RATE  NO_OF_BOOKINGS\n",
              "2        Australia           8737              51\n",
              "3          Austria            671             166\n",
              "7           Brazil            621             253\n",
              "11          Canada        2789517              42\n",
              "13     China, P.R.          91699            1914\n",
              "18  Czech Republic            527              69\n",
              "19         Denmark         105167              34\n",
              "24          France         255481             754\n",
              "26         Germany            755            5221\n",
              "29           India            480              75\n",
              "33           Italy            558             539\n",
              "34           Japan            629              30\n",
              "46          Mexico            564              40\n",
              "49     Netherlands           1638              91\n",
              "51          Norway            398              21\n",
              "55          Poland            496             283\n",
              "58          Russia            598              25\n",
              "63        Slovakia            391              15\n",
              "68     Switzerland            623             113\n",
              "77  United Kingdom           7541             227"
            ]
          },
          "metadata": {
            "tags": []
          },
          "execution_count": 135
        }
      ]
    },
    {
      "cell_type": "code",
      "metadata": {
        "id": "KtCOgwyE13wP"
      },
      "source": [
        "book_df = plot_df[plot_df['NO_OF_BOOKINGS'] > 33 ]"
      ],
      "execution_count": null,
      "outputs": []
    },
    {
      "cell_type": "code",
      "metadata": {
        "colab": {
          "base_uri": "https://localhost:8080/",
          "height": 606
        },
        "id": "7uzXUJskv6ZP",
        "outputId": "03218331-f7cc-4207-849c-c69896612db0"
      },
      "source": [
        "h = sns.catplot(x=\"COUNTRY\", y=\"RECOVERY_RATE\", kind=\"bar\", data=rate_df)\n",
        "h.fig.set_figwidth(20)\n",
        "h.fig.set_figheight(10)"
      ],
      "execution_count": null,
      "outputs": [
        {
          "output_type": "display_data",
          "data": {
            "image/png": "[encoded data removed]",
            "text/plain": [
              "<Figure size 1440x720 with 1 Axes>"
            ]
          },
          "metadata": {
            "tags": []
          }
        }
      ]
    },
    {
      "cell_type": "markdown",
      "metadata": {
        "id": "YvmMPqEe34l1"
      },
      "source": [
        "###Countries with maximum no of bookings in 2020"
      ]
    },
    {
      "cell_type": "code",
      "metadata": {
        "colab": {
          "base_uri": "https://localhost:8080/",
          "height": 632
        },
        "id": "2Dd2-5mVyang",
        "outputId": "52606d20-e0a6-4ee1-f9bd-9c465c719f6e"
      },
      "source": [
        "g = sns.catplot(x=\"COUNTRY\", y=\"NO_OF_BOOKINGS\", kind=\"bar\", data=book_df)\n",
        "g.fig.set_figwidth(20)\n",
        "g.fig.set_figheight(10)"
      ],
      "execution_count": null,
      "outputs": [
        {
          "output_type": "display_data",
          "data": {
            "image/png": "[encoded data removed]",
            "text/plain": [
              "<Figure size 1440x720 with 1 Axes>"
            ]
          },
          "metadata": {
            "tags": []
          }
        }
      ]
    },
    {
      "cell_type": "code",
      "metadata": {
        "id": "SR9wIz_ykI39"
      },
      "source": [
        "# import libraries\n",
        "import folium\n",
        "import pandas as pd\n",
        "import pathlib\n",
        "    \n",
        "world = json.load(f)\n",
        "# Make a data frame with dots to show on the map\n",
        "data = pd.DataFrame({\n",
        "'lat':[61, 56, 51, 37, 43, 36, -28, -10, 40, 27],\n",
        "'lon':[105, -106, 10, -95, 12, 138, 24, -53, -3, 80],\n",
        "'name':['Russia ', 'Canada', 'Germany', 'USA', 'Italy', 'Japan', 'South Africa', 'Brazil', 'Spain', 'India']\n",
        "})\n",
        "data\n",
        " \n",
        "# Make an empty map\n",
        "m = folium.Map(location=[20, 0], tiles=\"Mapbox Bright\", zoom_start=2)\n",
        " \n",
        "# I can add marker one by one on the map\n",
        "for i in range(0,len(data)):\n",
        "  folium.Marker([data.iloc[i]['lon'], data.iloc[i]['lat']], popup=data.iloc[i]['name']).add_to(m)\n",
        " \n",
        "# Save it as html\n",
        "m.save('312_markers_on_folium_map1.html')\n"
      ],
      "execution_count": null,
      "outputs": []
    },
    {
      "cell_type": "markdown",
      "metadata": {
        "id": "NymLsQVPlto0"
      },
      "source": [
        "# Random forest Prediction"
      ]
    },
    {
      "cell_type": "code",
      "metadata": {
        "colab": {
          "base_uri": "https://localhost:8080/",
          "height": 204
        },
        "id": "nLPTyY47b6_9",
        "outputId": "b94b79cf-ff2c-4dc2-f24a-f997493fd072"
      },
      "source": [
        "from sklearn.preprocessing import LabelEncoder\n",
        "# creating instance of labelencoder\n",
        "labelencoder = LabelEncoder()\n",
        "# Assigning numerical values and storing in another column\n",
        "count_df['COUNTRY'] = labelencoder.fit_transform(count_df['COUNTRY'])\n",
        "count_df.head()"
      ],
      "execution_count": null,
      "outputs": [
        {
          "output_type": "execute_result",
          "data": {
            "text/html": [
              "<div>\n",
              "<style scoped>\n",
              "    .dataframe tbody tr th:only-of-type {\n",
              "        vertical-align: middle;\n",
              "    }\n",
              "\n",
              "    .dataframe tbody tr th {\n",
              "        vertical-align: top;\n",
              "    }\n",
              "\n",
              "    .dataframe thead th {\n",
              "        text-align: right;\n",
              "    }\n",
              "</style>\n",
              "<table border=\"1\" class=\"dataframe\">\n",
              "  <thead>\n",
              "    <tr style=\"text-align: right;\">\n",
              "      <th></th>\n",
              "      <th>COUNTRY</th>\n",
              "      <th>YEAR</th>\n",
              "      <th>MONTH</th>\n",
              "      <th>NO_OF_BOOKINGS</th>\n",
              "      <th>RECOVERY_RATE</th>\n",
              "    </tr>\n",
              "  </thead>\n",
              "  <tbody>\n",
              "    <tr>\n",
              "      <th>0</th>\n",
              "      <td>0</td>\n",
              "      <td>2020</td>\n",
              "      <td>3</td>\n",
              "      <td>1</td>\n",
              "      <td>13</td>\n",
              "    </tr>\n",
              "    <tr>\n",
              "      <th>1</th>\n",
              "      <td>1</td>\n",
              "      <td>2020</td>\n",
              "      <td>1</td>\n",
              "      <td>2</td>\n",
              "      <td>0</td>\n",
              "    </tr>\n",
              "    <tr>\n",
              "      <th>2</th>\n",
              "      <td>1</td>\n",
              "      <td>2020</td>\n",
              "      <td>2</td>\n",
              "      <td>1</td>\n",
              "      <td>0</td>\n",
              "    </tr>\n",
              "    <tr>\n",
              "      <th>3</th>\n",
              "      <td>1</td>\n",
              "      <td>2020</td>\n",
              "      <td>3</td>\n",
              "      <td>1</td>\n",
              "      <td>5</td>\n",
              "    </tr>\n",
              "    <tr>\n",
              "      <th>4</th>\n",
              "      <td>2</td>\n",
              "      <td>2020</td>\n",
              "      <td>1</td>\n",
              "      <td>8</td>\n",
              "      <td>1</td>\n",
              "    </tr>\n",
              "  </tbody>\n",
              "</table>\n",
              "</div>"
            ],
            "text/plain": [
              "   COUNTRY  YEAR  MONTH  NO_OF_BOOKINGS  RECOVERY_RATE\n",
              "0        0  2020      3               1             13\n",
              "1        1  2020      1               2              0\n",
              "2        1  2020      2               1              0\n",
              "3        1  2020      3               1              5\n",
              "4        2  2020      1               8              1"
            ]
          },
          "metadata": {
            "tags": []
          },
          "execution_count": 247
        }
      ]
    },
    {
      "cell_type": "code",
      "metadata": {
        "id": "OvSYgFDtMKZ8"
      },
      "source": [
        "# Labels are the values we want to predict\n",
        "labels = np.array(count_df['NO_OF_BOOKINGS'])\n",
        "features = count_df.drop('NO_OF_BOOKINGS', axis = 1)\n",
        "# Saving feature names for later use\n",
        "feature_list = list(features.columns)\n",
        "# Convert to numpy array\n",
        "features = np.array(features)"
      ],
      "execution_count": null,
      "outputs": []
    },
    {
      "cell_type": "code",
      "metadata": {
        "id": "0g1k5PJtMLBo"
      },
      "source": [
        "# Using Skicit-learn to split data into training and testing sets\n",
        "from sklearn.model_selection import train_test_split\n",
        "# Split the data into training and testing sets\n",
        "train_features, test_features, train_labels, test_labels = train_test_split(features, labels, test_size = 0.2, random_state = 42)"
      ],
      "execution_count": null,
      "outputs": []
    },
    {
      "cell_type": "code",
      "metadata": {
        "colab": {
          "base_uri": "https://localhost:8080/"
        },
        "id": "5X5AWdxHMK98",
        "outputId": "41b1528a-e0d0-49e5-df5e-f0778fccd850"
      },
      "source": [
        "print('Training Features Shape:', train_features.shape)\n",
        "print('Training Labels Shape:', train_labels.shape)\n",
        "print('Testing Features Shape:', test_features.shape)\n",
        "print('Testing Labels Shape:', test_labels.shape)"
      ],
      "execution_count": null,
      "outputs": [
        {
          "output_type": "stream",
          "text": [
            "Training Features Shape: (331, 4)\n",
            "Training Labels Shape: (331,)\n",
            "Testing Features Shape: (83, 4)\n",
            "Testing Labels Shape: (83,)\n"
          ],
          "name": "stdout"
        }
      ]
    },
    {
      "cell_type": "code",
      "metadata": {
        "id": "_BI8LQe9MK74"
      },
      "source": [
        "# Import the model we are using\n",
        "from sklearn.ensemble import RandomForestRegressor\n",
        "# Instantiate model with 1000 decision trees\n",
        "rf = RandomForestRegressor(n_estimators = 1000, random_state = 42)\n",
        "# Train the model on training data\n",
        "rf.fit(train_features, train_labels);"
      ],
      "execution_count": null,
      "outputs": []
    },
    {
      "cell_type": "code",
      "metadata": {
        "colab": {
          "base_uri": "https://localhost:8080/"
        },
        "id": "rSb5q9FmMK4X",
        "outputId": "f0b7e688-889d-4588-c626-988d7c92627c"
      },
      "source": [
        "# Use the forest's predict method on the test data\n",
        "predictions = rf.predict(test_features)\n",
        "# Calculate the absolute errors\n",
        "errors = abs(predictions - test_labels)\n",
        "# Print out the mean absolute error (mae)\n",
        "print('Mean Absolute Error:', round(np.mean(errors), 2), ' bookings.')"
      ],
      "execution_count": null,
      "outputs": [
        {
          "output_type": "stream",
          "text": [
            "Mean Absolute Error: 33.02  bookings.\n"
          ],
          "name": "stdout"
        }
      ]
    },
    {
      "cell_type": "code",
      "metadata": {
        "colab": {
          "base_uri": "https://localhost:8080/"
        },
        "id": "17pS_Ax5MK1C",
        "outputId": "7c9145a2-25c6-40e8-d576-41373411b7e8"
      },
      "source": [
        "# Calculate mean absolute percentage error (MAPE)\n",
        "mape = 100 * (errors / test_labels)\n",
        "# Calculate and display accuracy\n",
        "accuracy = 100 - np.mean(mape)\n",
        "print('Accuracy:', round(accuracy, 2), '%.')"
      ],
      "execution_count": null,
      "outputs": [
        {
          "output_type": "stream",
          "text": [
            "Accuracy: -205.82 %.\n"
          ],
          "name": "stdout"
        }
      ]
    },
    {
      "cell_type": "code",
      "metadata": {
        "id": "t50WiQ5CMKyy"
      },
      "source": [
        "# Import tools needed for visualization\n",
        "from sklearn.tree import export_graphviz\n",
        "import pydot\n",
        "# Pull out one tree from the forest\n",
        "tree = rf.estimators_[5]\n",
        "# Import tools needed for visualization\n",
        "from sklearn.tree import export_graphviz\n",
        "import pydot\n",
        "# Pull out one tree from the forest\n",
        "tree = rf.estimators_[5]\n",
        "# Export the image to a dot file\n",
        "export_graphviz(tree, out_file = 'tree.dot', feature_names = feature_list, rounded = True, precision = 1)\n",
        "# Use dot file to create a graph\n",
        "(graph, ) = pydot.graph_from_dot_file('tree.dot')\n",
        "# Write graph to a png file\n",
        "graph.write_png('tree.png')"
      ],
      "execution_count": null,
      "outputs": []
    },
    {
      "cell_type": "code",
      "metadata": {
        "id": "CUIvgRvXMKvW"
      },
      "source": [
        "# Limit depth of tree to 3 levels\n",
        "rf_small = RandomForestRegressor(n_estimators=10, max_depth = 3)\n",
        "rf_small.fit(train_features, train_labels)\n",
        "# Extract the small tree\n",
        "tree_small = rf_small.estimators_[5]\n",
        "# Save the tree as a png image\n",
        "export_graphviz(tree_small, out_file = 'small_tree.dot', feature_names = feature_list, rounded = True, precision = 1)\n",
        "(graph, ) = pydot.graph_from_dot_file('small_tree.dot')\n",
        "graph.write_png('small_tree.png');"
      ],
      "execution_count": null,
      "outputs": []
    },
    {
      "cell_type": "code",
      "metadata": {
        "colab": {
          "base_uri": "https://localhost:8080/"
        },
        "id": "CDqu1ZdaMKsm",
        "outputId": "07e4f627-d6f4-4e2f-c928-1f9b950741f6"
      },
      "source": [
        "# Get numerical feature importances\n",
        "importances = list(rf.feature_importances_)\n",
        "# List of tuples with variable and importance\n",
        "feature_importances = [(feature, round(importance, 2)) for feature, importance in zip(feature_list, importances)]\n",
        "# Sort the feature importances by most important first\n",
        "feature_importances = sorted(feature_importances, key = lambda x: x[1], reverse = True)\n",
        "# Print out the feature and importances \n",
        "[print('Variable: {:20} Importance: {}'.format(*pair)) for pair in feature_importances];"
      ],
      "execution_count": null,
      "outputs": [
        {
          "output_type": "stream",
          "text": [
            "Variable: COUNTRY              Importance: 0.66\n",
            "Variable: RECOVERY_RATE        Importance: 0.27\n",
            "Variable: MONTH                Importance: 0.07\n",
            "Variable: YEAR                 Importance: 0.0\n"
          ],
          "name": "stdout"
        }
      ]
    },
    {
      "cell_type": "code",
      "metadata": {
        "colab": {
          "base_uri": "https://localhost:8080/"
        },
        "id": "ZDkNAmS0Pkpq",
        "outputId": "e6322459-cbf6-4d84-c8a5-600419ace238"
      },
      "source": [
        "# New random forest with only the two most important variables\n",
        "rf_most_important = RandomForestRegressor(n_estimators= 1000, random_state=42)\n",
        "# Extract the two most important features\n",
        "important_indices = [feature_list.index('COUNTRY'), feature_list.index('RECOVERY_RATE')]\n",
        "train_important = train_features[:, important_indices]\n",
        "test_important = test_features[:, important_indices]\n",
        "# Train the random forest\n",
        "rf_most_important.fit(train_important, train_labels)\n",
        "# Make predictions and determine the error\n",
        "predictions = rf_most_important.predict(test_important)\n",
        "errors = abs(predictions - test_labels)\n",
        "# Display the performance metrics\n",
        "print('Mean Absolute Error:', round(np.mean(errors), 2), ' bookings.')\n",
        "mape = np.mean(100 * (errors / test_labels))\n",
        "accuracy = 100 - mape\n",
        "print('Accuracy:', round(accuracy, 2), '%.')"
      ],
      "execution_count": null,
      "outputs": [
        {
          "output_type": "stream",
          "text": [
            "Mean Absolute Error: 33.88  bookings.\n",
            "Accuracy: -204.09 %.\n"
          ],
          "name": "stdout"
        }
      ]
    },
    {
      "cell_type": "code",
      "metadata": {
        "colab": {
          "base_uri": "https://localhost:8080/",
          "height": 427
        },
        "id": "3JaxHJCgQBwB",
        "outputId": "816f8991-fea9-49f3-e2f6-277cfdb82205"
      },
      "source": [
        "# Import matplotlib for plotting and use magic command for Jupyter Notebooks\n",
        "import matplotlib.pyplot as plt\n",
        "%matplotlib inline\n",
        "# Set the style\n",
        "plt.style.use('fivethirtyeight')\n",
        "# list of x locations for plotting\n",
        "x_values = list(range(len(importances)))\n",
        "# Make a bar chart\n",
        "plt.bar(x_values, importances, orientation = 'vertical')\n",
        "# Tick labels for x axis\n",
        "plt.xticks(x_values, feature_list, rotation='vertical')\n",
        "# Axis labels and title\n",
        "plt.ylabel('Importance'); plt.xlabel('Variable'); plt.title('Variable Importances');"
      ],
      "execution_count": null,
      "outputs": [
        {
          "output_type": "display_data",
          "data": {
            "image/png": "[encoded data removed]",
            "text/plain": [
              "<Figure size 432x288 with 1 Axes>"
            ]
          },
          "metadata": {
            "tags": []
          }
        }
      ]
    },
    {
      "cell_type": "code",
      "metadata": {
        "colab": {
          "base_uri": "https://localhost:8080/",
          "height": 368
        },
        "id": "9ygOBZihQHD_",
        "outputId": "4865fc24-302f-4886-b41f-c062d47f890d"
      },
      "source": [
        "# Use datetime for creating date objects for plotting\n",
        "import datetime\n",
        "# Dates of training values\n",
        "months = features[:, feature_list.index('MONTH')]\n",
        "years = features[:, feature_list.index('YEAR')]\n",
        "# List and then convert to datetime object\n",
        "dates = [str(int(year)) + '-' + str(int(month)) for year, month in zip(years, months)]\n",
        "dates = [datetime.datetime.strptime(date, '%Y-%m') for date in dates]\n",
        "# Dataframe with true values and dates\n",
        "true_data = pd.DataFrame(data = {'date': dates, 'actual': labels})\n",
        "# Dates of predictions\n",
        "months = test_features[:, feature_list.index('MONTH')]\n",
        "years = test_features[:, feature_list.index('YEAR')]\n",
        "# Column of dates\n",
        "test_dates = [str(int(year)) + '-' + str(int(month)) for year, month in zip(years, months)]\n",
        "# Convert to datetime objects\n",
        "test_dates = [datetime.datetime.strptime(date, '%Y-%m') for date in test_dates]\n",
        "# Dataframe with predictions and dates\n",
        "predictions_data = pd.DataFrame(data = {'date': test_dates, 'prediction': predictions})\n",
        "# Plot the actual values\n",
        "plt.plot(true_data['date'], true_data['actual'], 'b-', label = 'actual')\n",
        "# Plot the predicted values\n",
        "plt.plot(predictions_data['date'], predictions_data['prediction'], 'ro', label = 'prediction')\n",
        "plt.xticks(rotation = '60'); \n",
        "plt.legend()\n",
        "# Graph labels\n",
        "plt.xlabel('Date'); plt.ylabel('No of Bookings'); plt.title('Actual and Predicted Values');"
      ],
      "execution_count": null,
      "outputs": [
        {
          "output_type": "display_data",
          "data": {
            "image/png": "[encoded data removed]",
            "text/plain": [
              "<Figure size 432x288 with 1 Axes>"
            ]
          },
          "metadata": {
            "tags": []
          }
        }
      ]
    }
  ]
}